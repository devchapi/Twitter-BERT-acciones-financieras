{
  "nbformat": 4,
  "nbformat_minor": 0,
  "metadata": {
    "accelerator": "GPU",
    "colab": {
      "name": "ConcatBERT-multiple-input.ipynb",
      "provenance": [],
      "collapsed_sections": []
    },
    "instance_type": "ml.g4dn.xlarge",
    "kernelspec": {
      "display_name": "Python 3 (TensorFlow 2.1 Python 3.6 GPU Optimized)",
      "language": "python",
      "name": "python3__SAGEMAKER_INTERNAL__arn:aws:sagemaker:us-east-1:081325390199:image/tensorflow-2.1-gpu-py36"
    },
    "language_info": {
      "codemirror_mode": {
        "name": "ipython",
        "version": 3
      },
      "file_extension": ".py",
      "mimetype": "text/x-python",
      "name": "python",
      "nbconvert_exporter": "python",
      "pygments_lexer": "ipython3",
      "version": "3.6.13"
    }
  },
  "cells": [
    {
      "cell_type": "code",
      "metadata": {
        "id": "jy6AP6HlUFSP",
        "outputId": "5e99d2b0-28dd-4a3e-8498-fb971e2f2e2d"
      },
      "source": [
        "pip install --upgrade pip"
      ],
      "execution_count": null,
      "outputs": [
        {
          "output_type": "stream",
          "text": [
            "Requirement already satisfied: pip in /usr/local/lib/python3.6/site-packages (21.0.1)\n",
            "Collecting pip\n",
            "  Downloading pip-21.1.3-py3-none-any.whl (1.5 MB)\n",
            "\u001b[K     |████████████████████████████████| 1.5 MB 44.3 MB/s eta 0:00:01\n",
            "\u001b[?25hInstalling collected packages: pip\n",
            "  Attempting uninstall: pip\n",
            "    Found existing installation: pip 21.0.1\n",
            "    Uninstalling pip-21.0.1:\n",
            "      Successfully uninstalled pip-21.0.1\n",
            "Successfully installed pip-21.1.3\n",
            "Note: you may need to restart the kernel to use updated packages.\n"
          ],
          "name": "stdout"
        }
      ]
    },
    {
      "cell_type": "code",
      "metadata": {
        "colab": {
          "base_uri": "https://localhost:8080/"
        },
        "id": "Ijr4azd7dfYb",
        "outputId": "7ce3c12e-d6e1-4809-d2d8-722dc86e5d4d"
      },
      "source": [
        "pip install -q tf-models-official"
      ],
      "execution_count": null,
      "outputs": [
        {
          "output_type": "stream",
          "text": [
            "\u001b[33mWARNING: Running pip as the 'root' user can result in broken permissions and conflicting behaviour with the system package manager. It is recommended to use a virtual environment instead: https://pip.pypa.io/warnings/venv\u001b[0m\n",
            "Note: you may need to restart the kernel to use updated packages.\n"
          ],
          "name": "stdout"
        }
      ]
    },
    {
      "cell_type": "code",
      "metadata": {
        "colab": {
          "base_uri": "https://localhost:8080/"
        },
        "id": "aIstMPsbdd0H",
        "outputId": "cb30d1bb-6394-4183-8f39-95dae2165489"
      },
      "source": [
        "pip install -q -U tensorflow-text"
      ],
      "execution_count": null,
      "outputs": [
        {
          "output_type": "stream",
          "text": [
            "\u001b[33mWARNING: Running pip as the 'root' user can result in broken permissions and conflicting behaviour with the system package manager. It is recommended to use a virtual environment instead: https://pip.pypa.io/warnings/venv\u001b[0m\n",
            "Note: you may need to restart the kernel to use updated packages.\n"
          ],
          "name": "stdout"
        }
      ]
    },
    {
      "cell_type": "code",
      "metadata": {
        "id": "QW3UE0I6aJGc"
      },
      "source": [
        "import pandas as pd\n",
        "import os\n",
        "\n",
        "import tensorflow as tf\n",
        "import tensorflow_hub as hub\n",
        "import tensorflow_text as text\n",
        "from official.nlp import optimization \n",
        "\n",
        "import matplotlib.pyplot as plt\n",
        "import os\n",
        "\n",
        "import tensorflow as tf\n",
        "from tensorflow import keras\n",
        "from tensorflow.keras import layers"
      ],
      "execution_count": null,
      "outputs": []
    },
    {
      "cell_type": "code",
      "metadata": {
        "id": "PCIfcR-AUFSV"
      },
      "source": [
        "#cargamos dataset\n",
        "df = pd.read_csv(\"concat_dataset.csv\")"
      ],
      "execution_count": null,
      "outputs": []
    },
    {
      "cell_type": "code",
      "metadata": {
        "id": "V33B8ni1abKt",
        "outputId": "8fddc7ad-5c45-4cc7-fd51-91ce98f8ed55"
      },
      "source": [
        "df.head(3)"
      ],
      "execution_count": null,
      "outputs": [
        {
          "output_type": "execute_result",
          "data": {
            "text/html": [
              "<div>\n",
              "<style scoped>\n",
              "    .dataframe tbody tr th:only-of-type {\n",
              "        vertical-align: middle;\n",
              "    }\n",
              "\n",
              "    .dataframe tbody tr th {\n",
              "        vertical-align: top;\n",
              "    }\n",
              "\n",
              "    .dataframe thead th {\n",
              "        text-align: right;\n",
              "    }\n",
              "</style>\n",
              "<table border=\"1\" class=\"dataframe\">\n",
              "  <thead>\n",
              "    <tr style=\"text-align: right;\">\n",
              "      <th></th>\n",
              "      <th>ticker_symbol</th>\n",
              "      <th>current_monday</th>\n",
              "      <th>body</th>\n",
              "      <th>Open_x</th>\n",
              "      <th>High_x</th>\n",
              "      <th>Low_x</th>\n",
              "      <th>Close_x</th>\n",
              "      <th>Adj Close_x</th>\n",
              "      <th>Volume_x</th>\n",
              "      <th>next_monday</th>\n",
              "      <th>Open_y</th>\n",
              "      <th>High_y</th>\n",
              "      <th>Low_y</th>\n",
              "      <th>Close_y</th>\n",
              "      <th>Adj Close_y</th>\n",
              "      <th>Volume_y</th>\n",
              "      <th>abs_dif</th>\n",
              "      <th>rel_dif</th>\n",
              "      <th>type_dif</th>\n",
              "    </tr>\n",
              "  </thead>\n",
              "  <tbody>\n",
              "    <tr>\n",
              "      <th>0</th>\n",
              "      <td>AAPL</td>\n",
              "      <td>2014-12-29</td>\n",
              "      <td>lx21 made $10,008  on $AAPL -Check it out! htt...</td>\n",
              "      <td>28.4475</td>\n",
              "      <td>28.692499</td>\n",
              "      <td>26.837500</td>\n",
              "      <td>27.332500</td>\n",
              "      <td>24.819241</td>\n",
              "      <td>608353600</td>\n",
              "      <td>2015-01-05</td>\n",
              "      <td>27.072500</td>\n",
              "      <td>28.312500</td>\n",
              "      <td>26.157499</td>\n",
              "      <td>28.002501</td>\n",
              "      <td>25.427635</td>\n",
              "      <td>1.133010e+09</td>\n",
              "      <td>-1.375000</td>\n",
              "      <td>-0.048335</td>\n",
              "      <td>-1</td>\n",
              "    </tr>\n",
              "    <tr>\n",
              "      <th>1</th>\n",
              "      <td>AAPL</td>\n",
              "      <td>2015-01-05</td>\n",
              "      <td>Stock Contest!! Pick $AAPL and WIN a FREE Tabl...</td>\n",
              "      <td>27.0725</td>\n",
              "      <td>28.312500</td>\n",
              "      <td>26.157499</td>\n",
              "      <td>28.002501</td>\n",
              "      <td>25.427635</td>\n",
              "      <td>1133010000</td>\n",
              "      <td>2015-01-12</td>\n",
              "      <td>28.150000</td>\n",
              "      <td>28.200001</td>\n",
              "      <td>26.299999</td>\n",
              "      <td>26.497499</td>\n",
              "      <td>24.061016</td>\n",
              "      <td>1.216906e+09</td>\n",
              "      <td>1.077500</td>\n",
              "      <td>0.039801</td>\n",
              "      <td>1</td>\n",
              "    </tr>\n",
              "    <tr>\n",
              "      <th>2</th>\n",
              "      <td>AAPL</td>\n",
              "      <td>2015-01-12</td>\n",
              "      <td>#TOPTICKERTWEETS $FB $GOOG $GOOGL $YHOO $SPY $...</td>\n",
              "      <td>28.1500</td>\n",
              "      <td>28.200001</td>\n",
              "      <td>26.299999</td>\n",
              "      <td>26.497499</td>\n",
              "      <td>24.061016</td>\n",
              "      <td>1216906400</td>\n",
              "      <td>2015-01-19</td>\n",
              "      <td>26.959999</td>\n",
              "      <td>28.437500</td>\n",
              "      <td>26.625000</td>\n",
              "      <td>28.245001</td>\n",
              "      <td>25.647839</td>\n",
              "      <td>7.949480e+08</td>\n",
              "      <td>-1.190001</td>\n",
              "      <td>-0.042274</td>\n",
              "      <td>-1</td>\n",
              "    </tr>\n",
              "  </tbody>\n",
              "</table>\n",
              "</div>"
            ],
            "text/plain": [
              "  ticker_symbol current_monday  \\\n",
              "0          AAPL     2014-12-29   \n",
              "1          AAPL     2015-01-05   \n",
              "2          AAPL     2015-01-12   \n",
              "\n",
              "                                                body   Open_x     High_x  \\\n",
              "0  lx21 made $10,008  on $AAPL -Check it out! htt...  28.4475  28.692499   \n",
              "1  Stock Contest!! Pick $AAPL and WIN a FREE Tabl...  27.0725  28.312500   \n",
              "2  #TOPTICKERTWEETS $FB $GOOG $GOOGL $YHOO $SPY $...  28.1500  28.200001   \n",
              "\n",
              "       Low_x    Close_x  Adj Close_x    Volume_x next_monday     Open_y  \\\n",
              "0  26.837500  27.332500    24.819241   608353600  2015-01-05  27.072500   \n",
              "1  26.157499  28.002501    25.427635  1133010000  2015-01-12  28.150000   \n",
              "2  26.299999  26.497499    24.061016  1216906400  2015-01-19  26.959999   \n",
              "\n",
              "      High_y      Low_y    Close_y  Adj Close_y      Volume_y   abs_dif  \\\n",
              "0  28.312500  26.157499  28.002501    25.427635  1.133010e+09 -1.375000   \n",
              "1  28.200001  26.299999  26.497499    24.061016  1.216906e+09  1.077500   \n",
              "2  28.437500  26.625000  28.245001    25.647839  7.949480e+08 -1.190001   \n",
              "\n",
              "    rel_dif  type_dif  \n",
              "0 -0.048335        -1  \n",
              "1  0.039801         1  \n",
              "2 -0.042274        -1  "
            ]
          },
          "metadata": {
            "tags": []
          },
          "execution_count": 16
        }
      ]
    },
    {
      "cell_type": "code",
      "metadata": {
        "id": "LcrzCyaWalhZ"
      },
      "source": [
        "#quitamos columnas que no usaremos, nos quedamos con texto y numéricas"
      ],
      "execution_count": null,
      "outputs": []
    },
    {
      "cell_type": "code",
      "metadata": {
        "id": "Pr87Ai5qcBG4"
      },
      "source": [
        "df = df[['body', 'Open_x', 'High_x', 'Low_x', 'Close_x', 'Adj Close_x', 'Volume_x', 'type_dif']]"
      ],
      "execution_count": null,
      "outputs": []
    },
    {
      "cell_type": "code",
      "metadata": {
        "id": "wUYN2xB3UFSa",
        "outputId": "3bdf5cc8-63cc-4d80-8ee2-b9aac62f2564"
      },
      "source": [
        "df.head(2)"
      ],
      "execution_count": null,
      "outputs": [
        {
          "output_type": "execute_result",
          "data": {
            "text/html": [
              "<div>\n",
              "<style scoped>\n",
              "    .dataframe tbody tr th:only-of-type {\n",
              "        vertical-align: middle;\n",
              "    }\n",
              "\n",
              "    .dataframe tbody tr th {\n",
              "        vertical-align: top;\n",
              "    }\n",
              "\n",
              "    .dataframe thead th {\n",
              "        text-align: right;\n",
              "    }\n",
              "</style>\n",
              "<table border=\"1\" class=\"dataframe\">\n",
              "  <thead>\n",
              "    <tr style=\"text-align: right;\">\n",
              "      <th></th>\n",
              "      <th>body</th>\n",
              "      <th>Open_x</th>\n",
              "      <th>High_x</th>\n",
              "      <th>Low_x</th>\n",
              "      <th>Close_x</th>\n",
              "      <th>Adj Close_x</th>\n",
              "      <th>Volume_x</th>\n",
              "      <th>type_dif</th>\n",
              "    </tr>\n",
              "  </thead>\n",
              "  <tbody>\n",
              "    <tr>\n",
              "      <th>0</th>\n",
              "      <td>lx21 made $10,008  on $AAPL -Check it out! htt...</td>\n",
              "      <td>28.4475</td>\n",
              "      <td>28.692499</td>\n",
              "      <td>26.837500</td>\n",
              "      <td>27.332500</td>\n",
              "      <td>24.819241</td>\n",
              "      <td>608353600</td>\n",
              "      <td>-1</td>\n",
              "    </tr>\n",
              "    <tr>\n",
              "      <th>1</th>\n",
              "      <td>Stock Contest!! Pick $AAPL and WIN a FREE Tabl...</td>\n",
              "      <td>27.0725</td>\n",
              "      <td>28.312500</td>\n",
              "      <td>26.157499</td>\n",
              "      <td>28.002501</td>\n",
              "      <td>25.427635</td>\n",
              "      <td>1133010000</td>\n",
              "      <td>1</td>\n",
              "    </tr>\n",
              "  </tbody>\n",
              "</table>\n",
              "</div>"
            ],
            "text/plain": [
              "                                                body   Open_x     High_x  \\\n",
              "0  lx21 made $10,008  on $AAPL -Check it out! htt...  28.4475  28.692499   \n",
              "1  Stock Contest!! Pick $AAPL and WIN a FREE Tabl...  27.0725  28.312500   \n",
              "\n",
              "       Low_x    Close_x  Adj Close_x    Volume_x  type_dif  \n",
              "0  26.837500  27.332500    24.819241   608353600        -1  \n",
              "1  26.157499  28.002501    25.427635  1133010000         1  "
            ]
          },
          "metadata": {
            "tags": []
          },
          "execution_count": 19
        }
      ]
    },
    {
      "cell_type": "code",
      "metadata": {
        "id": "VqW7vkpWcA_-"
      },
      "source": [
        "#Split en train y test\n",
        "from sklearn.model_selection import train_test_split\n",
        "X = df.drop(columns=[\"type_dif\"])\n",
        "y = pd.get_dummies(df[\"type_dif\"]).values\n",
        "X_train, X_test, y_train, y_test = train_test_split( X, y, test_size=0.33, random_state=0)"
      ],
      "execution_count": null,
      "outputs": []
    },
    {
      "cell_type": "code",
      "metadata": {
        "id": "QrovRpyGqmNa"
      },
      "source": [
        "X_train_text = X_train.body.values\n",
        "X_train_nums = X_train.drop(columns=[\"body\"]).values\n",
        "X_test_text = X_test.body.values\n",
        "X_test_nums = X_test.drop(columns=[\"body\"]).values"
      ],
      "execution_count": null,
      "outputs": []
    },
    {
      "cell_type": "code",
      "metadata": {
        "colab": {
          "base_uri": "https://localhost:8080/"
        },
        "id": "6WUm9Fsarnbv",
        "outputId": "8bd7bda6-9b0b-4b28-db8e-827810a04384"
      },
      "source": [
        "y_train.shape, X_train_nums.shape"
      ],
      "execution_count": null,
      "outputs": [
        {
          "output_type": "execute_result",
          "data": {
            "text/plain": [
              "((1053, 3), (1053, 6))"
            ]
          },
          "metadata": {
            "tags": []
          },
          "execution_count": 22
        }
      ]
    },
    {
      "cell_type": "code",
      "metadata": {
        "id": "KxFTKhw9bTbr"
      },
      "source": [
        "#aplicamos scaler a las variables numericas\n",
        "from sklearn.preprocessing import MinMaxScaler\n",
        "scaler = MinMaxScaler()\n",
        "scaler = scaler.fit(X_train_nums)\n",
        "X_train_nums = scaler.transform(X_train_nums)\n",
        "X_test_nums = scaler.transform(X_test_nums)"
      ],
      "execution_count": null,
      "outputs": []
    },
    {
      "cell_type": "code",
      "metadata": {
        "id": "m83XkfkYfq_K"
      },
      "source": [
        "#cargar BERT"
      ],
      "execution_count": null,
      "outputs": []
    },
    {
      "cell_type": "code",
      "metadata": {
        "id": "9XX9gixSc6hf"
      },
      "source": [
        "tfhub_handle_encoder = \"https://tfhub.dev/tensorflow/bert_en_cased_L-12_H-768_A-12/3\"\n",
        "tfhub_handle_preprocess = \"https://tfhub.dev/tensorflow/bert_en_cased_preprocess/3\""
      ],
      "execution_count": null,
      "outputs": []
    },
    {
      "cell_type": "code",
      "metadata": {
        "id": "i5F7o77Kfp2g"
      },
      "source": [
        "bert_preprocess_model = hub.KerasLayer(tfhub_handle_preprocess)"
      ],
      "execution_count": null,
      "outputs": []
    },
    {
      "cell_type": "code",
      "metadata": {
        "id": "faOQMLIhnBhx"
      },
      "source": [
        " #arquitectura de la primera parte de la red que trabaja con BERT, incluimos los tokenizer del modelo\n",
        " text_input = tf.keras.layers.Input(shape=(), dtype=tf.string, name='text')\n",
        " preprocessing_layer = hub.KerasLayer(tfhub_handle_preprocess, name='preprocessing')\n",
        " encoder_inputs = preprocessing_layer(text_input)\n",
        " encoder = hub.KerasLayer(tfhub_handle_encoder, trainable=True, name='BERT_encoder')\n",
        " outputs = encoder(encoder_inputs)\n",
        " net = outputs['pooled_output']\n",
        " net = tf.keras.layers.Dropout(0.1)(net)\n",
        " net = tf.keras.layers.Dense(10, activation=None, name='classifier')(net)"
      ],
      "execution_count": null,
      "outputs": []
    },
    {
      "cell_type": "code",
      "metadata": {
        "id": "K6hFu2UAnkCK"
      },
      "source": [
        "#arquitectura conjunto del procesamiento de texto + procesamiento de valores numéricos\n",
        "N_COLS = 6\n",
        "inputs = keras.Input(shape=(N_COLS,),name=\"num_input\")\n",
        "xi = layers.concatenate([inputs,net])\n",
        "a = layers.Dense(N_COLS*2, activation=\"relu\",name=\"dense-1.1\",kernel_initializer=\"he_normal\")(xi)\n",
        "a = layers.Dense(N_COLS*2, activation=\"relu\",name=\"dense-1.2\",kernel_initializer=\"he_normal\")(a)\n",
        "a = layers.Dense(3, activation=\"softmax\",name=\"output\")(a)\n",
        "#la capa final con activacion softmax ya que se trata de clasificacion"
      ],
      "execution_count": null,
      "outputs": []
    },
    {
      "cell_type": "code",
      "metadata": {
        "id": "NOblpYeFpqII"
      },
      "source": [
        "model = keras.Model(inputs=[inputs,text_input], outputs=[a])"
      ],
      "execution_count": null,
      "outputs": []
    },
    {
      "cell_type": "code",
      "metadata": {
        "id": "0heLBL6qUFSi",
        "outputId": "e990f9d1-72e9-46ca-b128-0ddf4514272f"
      },
      "source": [
        "model.summary()"
      ],
      "execution_count": null,
      "outputs": [
        {
          "output_type": "stream",
          "text": [
            "Model: \"model\"\n",
            "__________________________________________________________________________________________________\n",
            "Layer (type)                    Output Shape         Param #     Connected to                     \n",
            "==================================================================================================\n",
            "text (InputLayer)               [(None,)]            0                                            \n",
            "__________________________________________________________________________________________________\n",
            "preprocessing (KerasLayer)      {'input_mask': (None 0           text[0][0]                       \n",
            "__________________________________________________________________________________________________\n",
            "BERT_encoder (KerasLayer)       {'default': (None, 7 108310273   preprocessing[0][0]              \n",
            "                                                                 preprocessing[0][1]              \n",
            "                                                                 preprocessing[0][2]              \n",
            "__________________________________________________________________________________________________\n",
            "dropout (Dropout)               (None, 768)          0           BERT_encoder[0][13]              \n",
            "__________________________________________________________________________________________________\n",
            "num_input (InputLayer)          [(None, 6)]          0                                            \n",
            "__________________________________________________________________________________________________\n",
            "classifier (Dense)              (None, 10)           7690        dropout[0][0]                    \n",
            "__________________________________________________________________________________________________\n",
            "concatenate (Concatenate)       (None, 16)           0           num_input[0][0]                  \n",
            "                                                                 classifier[0][0]                 \n",
            "__________________________________________________________________________________________________\n",
            "dense-1.1 (Dense)               (None, 12)           204         concatenate[0][0]                \n",
            "__________________________________________________________________________________________________\n",
            "dense-1.2 (Dense)               (None, 12)           156         dense-1.1[0][0]                  \n",
            "__________________________________________________________________________________________________\n",
            "output (Dense)                  (None, 3)            39          dense-1.2[0][0]                  \n",
            "==================================================================================================\n",
            "Total params: 108,318,362\n",
            "Trainable params: 108,318,361\n",
            "Non-trainable params: 1\n",
            "__________________________________________________________________________________________________\n"
          ],
          "name": "stdout"
        }
      ]
    },
    {
      "cell_type": "code",
      "metadata": {
        "colab": {
          "base_uri": "https://localhost:8080/",
          "height": 424
        },
        "id": "6xHalwDFolqb",
        "outputId": "68bb2f1c-0675-4eef-82c6-7830f9b58395"
      },
      "source": [
        "tf.keras.utils.plot_model(model, show_shapes=True)"
      ],
      "execution_count": null,
      "outputs": [
        {
          "output_type": "stream",
          "text": [
            "('You must install pydot (`pip install pydot`) and install graphviz (see instructions at https://graphviz.gitlab.io/download/) ', 'for plot_model/model_to_dot to work.')\n"
          ],
          "name": "stdout"
        }
      ]
    },
    {
      "cell_type": "code",
      "metadata": {
        "id": "ZeFZRfmIt7JM"
      },
      "source": [
        "#hiperparametros enfocados en BERT para la arquitectura completa de la red propuesta\n",
        "epochs = 5\n",
        "steps_per_epoch = X_train.shape[0]\n",
        "num_train_steps = steps_per_epoch * epochs\n",
        "num_warmup_steps = int(0.1*num_train_steps)\n",
        "\n",
        "init_lr = 3e-5\n",
        "optimizer = optimization.create_optimizer(init_lr=init_lr,\n",
        "                                          num_train_steps=num_train_steps,\n",
        "                                          num_warmup_steps=num_warmup_steps,\n",
        "                                          optimizer_type='adamw')"
      ],
      "execution_count": null,
      "outputs": []
    },
    {
      "cell_type": "code",
      "metadata": {
        "id": "H3k-QxbxqRde"
      },
      "source": [
        "model.compile(\n",
        "    optimizer=optimizer,\n",
        "    loss='categorical_crossentropy',\n",
        "    metrics=['accuracy',tf.keras.metrics.AUC()]\n",
        ")"
      ],
      "execution_count": null,
      "outputs": []
    },
    {
      "cell_type": "code",
      "metadata": {
        "colab": {
          "base_uri": "https://localhost:8080/"
        },
        "id": "NVzTeO0prOCf",
        "outputId": "677b0e0d-21e0-461f-e6fe-a2493c7d632b"
      },
      "source": [
        "model.fit(\n",
        "    {\"text\": X_train_text, \"num_input\": X_train_nums},\n",
        "    y_train,\n",
        "    batch_size = 32,\n",
        "    epochs=5\n",
        ")"
      ],
      "execution_count": null,
      "outputs": [
        {
          "output_type": "stream",
          "text": [
            "Epoch 1/5\n",
            "33/33 [==============================] - 852s 26s/step - loss: 0.8622 - accuracy: 0.4425 - auc: 0.7237\n",
            "Epoch 2/5\n",
            "33/33 [==============================] - 827s 25s/step - loss: 0.8239 - accuracy: 0.4691 - auc: 0.7385\n",
            "Epoch 3/5\n",
            "33/33 [==============================] - 815s 25s/step - loss: 0.8053 - accuracy: 0.5100 - auc: 0.7532\n",
            "Epoch 4/5\n",
            "33/33 [==============================] - 815s 25s/step - loss: 0.7486 - accuracy: 0.5926 - auc: 0.8155\n",
            "Epoch 5/5\n",
            "33/33 [==============================] - 804s 24s/step - loss: 0.6958 - accuracy: 0.6847 - auc: 0.8702\n"
          ],
          "name": "stdout"
        },
        {
          "output_type": "execute_result",
          "data": {
            "text/plain": [
              "<tensorflow.python.keras.callbacks.History at 0x7f4ef825c978>"
            ]
          },
          "metadata": {
            "tags": []
          },
          "execution_count": 29
        }
      ]
    },
    {
      "cell_type": "code",
      "metadata": {
        "id": "d4w7dOlAsbj0",
        "outputId": "77c603c1-8e56-4d7c-b9f0-7181a1af6990"
      },
      "source": [
        "evals = model.evaluate(x={'text': X_test_text, 'num_input':X_test_nums}, y=y_test)"
      ],
      "execution_count": null,
      "outputs": [
        {
          "output_type": "stream",
          "text": [
            "17/17 [==============================] - 239s 14s/step - loss: 0.8522 - accuracy: 0.5337 - auc: 0.7572\n"
          ],
          "name": "stdout"
        }
      ]
    },
    {
      "cell_type": "code",
      "metadata": {
        "id": "GwteIYJfUFSk",
        "outputId": "2ed8954b-26c0-4427-80ca-87fd07a1fb93"
      },
      "source": [
        "evals"
      ],
      "execution_count": null,
      "outputs": [
        {
          "output_type": "execute_result",
          "data": {
            "text/plain": [
              "[0.8522205948829651, 0.5337187051773071, 0.7571976184844971]"
            ]
          },
          "metadata": {
            "tags": []
          },
          "execution_count": 32
        }
      ]
    },
    {
      "cell_type": "code",
      "metadata": {
        "id": "lmNtWQhHUFSl"
      },
      "source": [
        "predictions = model.predict(x={'text': X_test_text, 'num_input':X_test_nums})"
      ],
      "execution_count": null,
      "outputs": []
    },
    {
      "cell_type": "code",
      "metadata": {
        "id": "DlOrklZ7UFSl",
        "outputId": "ac72462a-a936-4dc1-dd2b-7a58cbd2a485"
      },
      "source": [
        "predictions"
      ],
      "execution_count": null,
      "outputs": [
        {
          "output_type": "execute_result",
          "data": {
            "text/plain": [
              "array([[0.38288528, 0.09401654, 0.52309823],\n",
              "       [0.2720388 , 0.13837646, 0.5895847 ],\n",
              "       [0.75745225, 0.02506217, 0.21748558],\n",
              "       ...,\n",
              "       [0.454531  , 0.06880014, 0.47666878],\n",
              "       [0.29935032, 0.13174397, 0.5689058 ],\n",
              "       [0.53502625, 0.05035448, 0.4146193 ]], dtype=float32)"
            ]
          },
          "metadata": {
            "tags": []
          },
          "execution_count": 34
        }
      ]
    },
    {
      "cell_type": "code",
      "metadata": {
        "id": "bnvESULaUFSl"
      },
      "source": [
        ""
      ],
      "execution_count": null,
      "outputs": []
    }
  ]
}