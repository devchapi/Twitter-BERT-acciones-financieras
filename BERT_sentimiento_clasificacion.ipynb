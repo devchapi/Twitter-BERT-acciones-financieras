{
  "nbformat": 4,
  "nbformat_minor": 0,
  "metadata": {
    "colab": {
      "name": "BERT-sentimiento-clasificacion.ipynb",
      "provenance": [],
      "collapsed_sections": []
    },
    "kernelspec": {
      "display_name": "Python 3",
      "name": "python3"
    },
    "language_info": {
      "name": "python"
    }
  },
  "cells": [
    {
      "cell_type": "code",
      "metadata": {
        "colab": {
          "base_uri": "https://localhost:8080/"
        },
        "id": "U1CMPuv9Ldc-",
        "outputId": "7b7afe5b-2671-4b62-d3e0-cb54c4a81518"
      },
      "source": [
        "!nvidia-smi -L"
      ],
      "execution_count": null,
      "outputs": [
        {
          "output_type": "stream",
          "text": [
            "GPU 0: Tesla T4 (UUID: GPU-f9d94264-adb1-41c2-98f6-dcb0b4a8681c)\n"
          ],
          "name": "stdout"
        }
      ]
    },
    {
      "cell_type": "code",
      "metadata": {
        "colab": {
          "base_uri": "https://localhost:8080/"
        },
        "id": "fQBkre6uLm2F",
        "outputId": "05c7e4c2-701a-4aaf-b85b-17c89336ca2f"
      },
      "source": [
        "!nvidia-smi"
      ],
      "execution_count": null,
      "outputs": [
        {
          "output_type": "stream",
          "text": [
            "Tue Jun 29 23:49:04 2021       \n",
            "+-----------------------------------------------------------------------------+\n",
            "| NVIDIA-SMI 465.27       Driver Version: 460.32.03    CUDA Version: 11.2     |\n",
            "|-------------------------------+----------------------+----------------------+\n",
            "| GPU  Name        Persistence-M| Bus-Id        Disp.A | Volatile Uncorr. ECC |\n",
            "| Fan  Temp  Perf  Pwr:Usage/Cap|         Memory-Usage | GPU-Util  Compute M. |\n",
            "|                               |                      |               MIG M. |\n",
            "|===============================+======================+======================|\n",
            "|   0  Tesla T4            Off  | 00000000:00:04.0 Off |                    0 |\n",
            "| N/A   45C    P8    10W /  70W |      0MiB / 15109MiB |      0%      Default |\n",
            "|                               |                      |                  N/A |\n",
            "+-------------------------------+----------------------+----------------------+\n",
            "                                                                               \n",
            "+-----------------------------------------------------------------------------+\n",
            "| Processes:                                                                  |\n",
            "|  GPU   GI   CI        PID   Type   Process name                  GPU Memory |\n",
            "|        ID   ID                                                   Usage      |\n",
            "|=============================================================================|\n",
            "|  No running processes found                                                 |\n",
            "+-----------------------------------------------------------------------------+\n"
          ],
          "name": "stdout"
        }
      ]
    },
    {
      "cell_type": "code",
      "metadata": {
        "id": "Ijr4azd7dfYb"
      },
      "source": [
        "pip install -q tf-models-official"
      ],
      "execution_count": null,
      "outputs": []
    },
    {
      "cell_type": "code",
      "metadata": {
        "id": "aIstMPsbdd0H"
      },
      "source": [
        "pip install -q -U tensorflow-text"
      ],
      "execution_count": null,
      "outputs": []
    },
    {
      "cell_type": "code",
      "metadata": {
        "id": "9XX9gixSc6hf"
      },
      "source": [
        "#cargamos BERT\n",
        "tfhub_handle_encoder = \"https://tfhub.dev/tensorflow/small_bert/bert_en_uncased_L-2_H-128_A-2/2\"\n",
        "tfhub_handle_preprocess = \"https://tfhub.dev/tensorflow/bert_en_uncased_preprocess/3\""
      ],
      "execution_count": null,
      "outputs": []
    },
    {
      "cell_type": "code",
      "metadata": {
        "id": "QW3UE0I6aJGc"
      },
      "source": [
        "import pandas as pd\n",
        "import numpy as np\n",
        "import os\n",
        "\n",
        "import tensorflow as tf\n",
        "import tensorflow_hub as hub\n",
        "import tensorflow_text as text\n",
        "from official.nlp import optimization \n",
        "\n",
        "import matplotlib.pyplot as plt\n",
        "import os\n",
        "\n",
        "import tensorflow as tf\n",
        "from tensorflow import keras\n",
        "from tensorflow.keras import layers"
      ],
      "execution_count": null,
      "outputs": []
    },
    {
      "cell_type": "code",
      "metadata": {
        "id": "V33B8ni1abKt"
      },
      "source": [
        "#lectura data\n",
        "os.chdir(\"/content/drive/MyDrive/TAC Notebooks/TA Final\")"
      ],
      "execution_count": null,
      "outputs": []
    },
    {
      "cell_type": "code",
      "metadata": {
        "id": "TDwRqlAzaMll"
      },
      "source": [
        "df = pd.read_csv(\"archive/fin-sent-dataset-1.csv\",header=None, encoding = \"ISO-8859-1\")"
      ],
      "execution_count": null,
      "outputs": []
    },
    {
      "cell_type": "code",
      "metadata": {
        "id": "vQ73givYFLxt"
      },
      "source": [
        "df.columns = [\"sentiment\",\"body\"]"
      ],
      "execution_count": null,
      "outputs": []
    },
    {
      "cell_type": "code",
      "metadata": {
        "colab": {
          "base_uri": "https://localhost:8080/"
        },
        "id": "9qUF8AiZLow_",
        "outputId": "3bd7aec9-7f23-4f84-a8ac-c17d253117b7"
      },
      "source": [
        "df.shape"
      ],
      "execution_count": null,
      "outputs": [
        {
          "output_type": "execute_result",
          "data": {
            "text/plain": [
              "(4846, 2)"
            ]
          },
          "metadata": {
            "tags": []
          },
          "execution_count": 9
        }
      ]
    },
    {
      "cell_type": "code",
      "metadata": {
        "colab": {
          "base_uri": "https://localhost:8080/",
          "height": 206
        },
        "id": "sNZX7dJcE2g1",
        "outputId": "225537ff-2c6c-47cb-cb1c-17d4937fd1bd"
      },
      "source": [
        "df.head()"
      ],
      "execution_count": null,
      "outputs": [
        {
          "output_type": "execute_result",
          "data": {
            "text/html": [
              "<div>\n",
              "<style scoped>\n",
              "    .dataframe tbody tr th:only-of-type {\n",
              "        vertical-align: middle;\n",
              "    }\n",
              "\n",
              "    .dataframe tbody tr th {\n",
              "        vertical-align: top;\n",
              "    }\n",
              "\n",
              "    .dataframe thead th {\n",
              "        text-align: right;\n",
              "    }\n",
              "</style>\n",
              "<table border=\"1\" class=\"dataframe\">\n",
              "  <thead>\n",
              "    <tr style=\"text-align: right;\">\n",
              "      <th></th>\n",
              "      <th>sentiment</th>\n",
              "      <th>body</th>\n",
              "    </tr>\n",
              "  </thead>\n",
              "  <tbody>\n",
              "    <tr>\n",
              "      <th>0</th>\n",
              "      <td>neutral</td>\n",
              "      <td>According to Gran , the company has no plans t...</td>\n",
              "    </tr>\n",
              "    <tr>\n",
              "      <th>1</th>\n",
              "      <td>neutral</td>\n",
              "      <td>Technopolis plans to develop in stages an area...</td>\n",
              "    </tr>\n",
              "    <tr>\n",
              "      <th>2</th>\n",
              "      <td>negative</td>\n",
              "      <td>The international electronic industry company ...</td>\n",
              "    </tr>\n",
              "    <tr>\n",
              "      <th>3</th>\n",
              "      <td>positive</td>\n",
              "      <td>With the new production plant the company woul...</td>\n",
              "    </tr>\n",
              "    <tr>\n",
              "      <th>4</th>\n",
              "      <td>positive</td>\n",
              "      <td>According to the company 's updated strategy f...</td>\n",
              "    </tr>\n",
              "  </tbody>\n",
              "</table>\n",
              "</div>"
            ],
            "text/plain": [
              "  sentiment                                               body\n",
              "0   neutral  According to Gran , the company has no plans t...\n",
              "1   neutral  Technopolis plans to develop in stages an area...\n",
              "2  negative  The international electronic industry company ...\n",
              "3  positive  With the new production plant the company woul...\n",
              "4  positive  According to the company 's updated strategy f..."
            ]
          },
          "metadata": {
            "tags": []
          },
          "execution_count": 10
        }
      ]
    },
    {
      "cell_type": "code",
      "metadata": {
        "colab": {
          "base_uri": "https://localhost:8080/"
        },
        "id": "FoJyzZQlGGeq",
        "outputId": "f9135be1-c528-4f8f-ce58-5f72a7b8aa88"
      },
      "source": [
        "df.sentiment.value_counts() / df.shape[0] * 100"
      ],
      "execution_count": null,
      "outputs": [
        {
          "output_type": "execute_result",
          "data": {
            "text/plain": [
              "neutral     59.409823\n",
              "positive    28.126290\n",
              "negative    12.463888\n",
              "Name: sentiment, dtype: float64"
            ]
          },
          "metadata": {
            "tags": []
          },
          "execution_count": 10
        },
        {
          "output_type": "execute_result",
          "data": {
            "text/plain": [
              "neutral     59.409823\n",
              "positive    28.126290\n",
              "negative    12.463888\n",
              "Name: sentiment, dtype: float64"
            ]
          },
          "metadata": {
            "tags": []
          },
          "execution_count": 21
        }
      ]
    },
    {
      "cell_type": "code",
      "metadata": {
        "colab": {
          "base_uri": "https://localhost:8080/",
          "height": 283
        },
        "id": "pgMeaDuOGN-8",
        "outputId": "81d68320-972f-4ff6-a6c0-903ddfa5b382"
      },
      "source": [
        "df.body.apply(len).hist()"
      ],
      "execution_count": null,
      "outputs": [
        {
          "output_type": "execute_result",
          "data": {
            "text/plain": [
              "<matplotlib.axes._subplots.AxesSubplot at 0x7f4301950f50>"
            ]
          },
          "metadata": {
            "tags": []
          },
          "execution_count": 14
        },
        {
          "output_type": "display_data",
          "data": {
            "image/png": "[encoded data removed]",
            "text/plain": [
              "<Figure size 432x288 with 1 Axes>"
            ]
          },
          "metadata": {
            "tags": [],
            "needs_background": "light"
          }
        }
      ]
    },
    {
      "cell_type": "code",
      "metadata": {
        "id": "Xs1kPBERIUJJ"
      },
      "source": [
        "#llamada a bert\n",
        "bert_preprocess_model = hub.KerasLayer(tfhub_handle_preprocess)"
      ],
      "execution_count": null,
      "outputs": []
    },
    {
      "cell_type": "code",
      "metadata": {
        "colab": {
          "base_uri": "https://localhost:8080/",
          "height": 283
        },
        "id": "42uO7opxIf-J",
        "outputId": "b7c9f357-6df6-4cfc-cf7d-2bbf9522764d"
      },
      "source": [
        "token_counts = pd.Series(np.sum(bert_preprocess_model(df.body.values)[\"input_mask\"],axis=1))\n",
        "token_counts.hist()"
      ],
      "execution_count": null,
      "outputs": [
        {
          "output_type": "execute_result",
          "data": {
            "text/plain": [
              "<matplotlib.axes._subplots.AxesSubplot at 0x7f42fc6964d0>"
            ]
          },
          "metadata": {
            "tags": []
          },
          "execution_count": 12
        },
        {
          "output_type": "display_data",
          "data": {
            "image/png": "[encoded data removed]",
            "text/plain": [
              "<Figure size 432x288 with 1 Axes>"
            ]
          },
          "metadata": {
            "tags": [],
            "needs_background": "light"
          }
        }
      ]
    },
    {
      "cell_type": "code",
      "metadata": {
        "colab": {
          "base_uri": "https://localhost:8080/"
        },
        "id": "S25cdEjjKI_D",
        "outputId": "94e62ac5-1d14-4a3e-d843-add2e0840afb"
      },
      "source": [
        "token_counts.describe()"
      ],
      "execution_count": null,
      "outputs": [
        {
          "output_type": "execute_result",
          "data": {
            "text/plain": [
              "count    4846.000000\n",
              "mean       30.604210\n",
              "std        13.576469\n",
              "min         4.000000\n",
              "25%        21.000000\n",
              "50%        28.000000\n",
              "75%        38.000000\n",
              "max       128.000000\n",
              "dtype: float64"
            ]
          },
          "metadata": {
            "tags": []
          },
          "execution_count": 13
        }
      ]
    },
    {
      "cell_type": "code",
      "metadata": {
        "colab": {
          "base_uri": "https://localhost:8080/",
          "height": 424
        },
        "id": "6cwxjNlzcM3B",
        "outputId": "202a9f4c-446c-439b-fd0b-c0b4275be589"
      },
      "source": [
        "pd.get_dummies(df.sentiment)"
      ],
      "execution_count": null,
      "outputs": [
        {
          "output_type": "execute_result",
          "data": {
            "text/html": [
              "<div>\n",
              "<style scoped>\n",
              "    .dataframe tbody tr th:only-of-type {\n",
              "        vertical-align: middle;\n",
              "    }\n",
              "\n",
              "    .dataframe tbody tr th {\n",
              "        vertical-align: top;\n",
              "    }\n",
              "\n",
              "    .dataframe thead th {\n",
              "        text-align: right;\n",
              "    }\n",
              "</style>\n",
              "<table border=\"1\" class=\"dataframe\">\n",
              "  <thead>\n",
              "    <tr style=\"text-align: right;\">\n",
              "      <th></th>\n",
              "      <th>negative</th>\n",
              "      <th>neutral</th>\n",
              "      <th>positive</th>\n",
              "    </tr>\n",
              "  </thead>\n",
              "  <tbody>\n",
              "    <tr>\n",
              "      <th>0</th>\n",
              "      <td>0</td>\n",
              "      <td>1</td>\n",
              "      <td>0</td>\n",
              "    </tr>\n",
              "    <tr>\n",
              "      <th>1</th>\n",
              "      <td>0</td>\n",
              "      <td>1</td>\n",
              "      <td>0</td>\n",
              "    </tr>\n",
              "    <tr>\n",
              "      <th>2</th>\n",
              "      <td>1</td>\n",
              "      <td>0</td>\n",
              "      <td>0</td>\n",
              "    </tr>\n",
              "    <tr>\n",
              "      <th>3</th>\n",
              "      <td>0</td>\n",
              "      <td>0</td>\n",
              "      <td>1</td>\n",
              "    </tr>\n",
              "    <tr>\n",
              "      <th>4</th>\n",
              "      <td>0</td>\n",
              "      <td>0</td>\n",
              "      <td>1</td>\n",
              "    </tr>\n",
              "    <tr>\n",
              "      <th>...</th>\n",
              "      <td>...</td>\n",
              "      <td>...</td>\n",
              "      <td>...</td>\n",
              "    </tr>\n",
              "    <tr>\n",
              "      <th>4841</th>\n",
              "      <td>1</td>\n",
              "      <td>0</td>\n",
              "      <td>0</td>\n",
              "    </tr>\n",
              "    <tr>\n",
              "      <th>4842</th>\n",
              "      <td>0</td>\n",
              "      <td>1</td>\n",
              "      <td>0</td>\n",
              "    </tr>\n",
              "    <tr>\n",
              "      <th>4843</th>\n",
              "      <td>1</td>\n",
              "      <td>0</td>\n",
              "      <td>0</td>\n",
              "    </tr>\n",
              "    <tr>\n",
              "      <th>4844</th>\n",
              "      <td>1</td>\n",
              "      <td>0</td>\n",
              "      <td>0</td>\n",
              "    </tr>\n",
              "    <tr>\n",
              "      <th>4845</th>\n",
              "      <td>1</td>\n",
              "      <td>0</td>\n",
              "      <td>0</td>\n",
              "    </tr>\n",
              "  </tbody>\n",
              "</table>\n",
              "<p>4846 rows × 3 columns</p>\n",
              "</div>"
            ],
            "text/plain": [
              "      negative  neutral  positive\n",
              "0            0        1         0\n",
              "1            0        1         0\n",
              "2            1        0         0\n",
              "3            0        0         1\n",
              "4            0        0         1\n",
              "...        ...      ...       ...\n",
              "4841         1        0         0\n",
              "4842         0        1         0\n",
              "4843         1        0         0\n",
              "4844         1        0         0\n",
              "4845         1        0         0\n",
              "\n",
              "[4846 rows x 3 columns]"
            ]
          },
          "metadata": {
            "tags": []
          },
          "execution_count": 68
        }
      ]
    },
    {
      "cell_type": "code",
      "metadata": {
        "id": "VqW7vkpWcA_-"
      },
      "source": [
        "#Split en train, val y set\n",
        "from sklearn.model_selection import train_test_split\n",
        "X = df.body.values\n",
        "y = pd.get_dummies(df.sentiment).values\n",
        "X_train, X_test, y_train, y_test = train_test_split( X, y, test_size=0.3, random_state=0)\n",
        "X_val, X_test, y_val, y_test = train_test_split( X_test, y_test, test_size=0.5, random_state=0)"
      ],
      "execution_count": null,
      "outputs": []
    },
    {
      "cell_type": "code",
      "metadata": {
        "colab": {
          "base_uri": "https://localhost:8080/"
        },
        "id": "6WUm9Fsarnbv",
        "outputId": "ba76c751-ea13-4537-e827-e8e3005abe24"
      },
      "source": [
        "y_train.shape, X_train.shape"
      ],
      "execution_count": null,
      "outputs": [
        {
          "output_type": "execute_result",
          "data": {
            "text/plain": [
              "((3392, 3), (3392,))"
            ]
          },
          "metadata": {
            "tags": []
          },
          "execution_count": 39
        }
      ]
    },
    {
      "cell_type": "code",
      "metadata": {
        "id": "m83XkfkYfq_K"
      },
      "source": [
        "#cargamos BERT y definimos tokenizers"
      ],
      "execution_count": null,
      "outputs": []
    },
    {
      "cell_type": "code",
      "metadata": {
        "id": "faOQMLIhnBhx"
      },
      "source": [
        "def build_classifier_model():\n",
        "  text_input = tf.keras.layers.Input(shape=(), dtype=tf.string, name='text')\n",
        "  preprocessing_layer = hub.KerasLayer(tfhub_handle_preprocess, name='preprocessing')\n",
        "  encoder_inputs = preprocessing_layer(text_input)\n",
        "  encoder = hub.KerasLayer(tfhub_handle_encoder, trainable=True, name='BERT_encoder')\n",
        "  outputs = encoder(encoder_inputs)\n",
        "  net = outputs['pooled_output']\n",
        "  net = tf.keras.layers.Dropout(0.1)(net)\n",
        "  net = tf.keras.layers.Dense(3, activation='softmax', name='classifier')(net)\n",
        "  return tf.keras.Model(text_input, net)"
      ],
      "execution_count": null,
      "outputs": []
    },
    {
      "cell_type": "code",
      "metadata": {
        "id": "K6hFu2UAnkCK"
      },
      "source": [
        "model = build_classifier_model()"
      ],
      "execution_count": null,
      "outputs": []
    },
    {
      "cell_type": "code",
      "metadata": {
        "colab": {
          "base_uri": "https://localhost:8080/",
          "height": 450
        },
        "id": "6xHalwDFolqb",
        "outputId": "7e97a95c-c43a-41c2-c502-d319f77c8096"
      },
      "source": [
        "tf.keras.utils.plot_model(model, show_shapes=True)"
      ],
      "execution_count": null,
      "outputs": [
        {
          "output_type": "execute_result",
          "data": {
            "image/png": "[encoded data removed]",
            "text/plain": [
              "<IPython.core.display.Image object>"
            ]
          },
          "metadata": {
            "tags": []
          },
          "execution_count": 30
        }
      ]
    },
    {
      "cell_type": "code",
      "metadata": {
        "id": "ZeFZRfmIt7JM"
      },
      "source": [
        "#hiperparametros BERT\n",
        "epochs = 50\n",
        "steps_per_epoch = X_train.shape[0]\n",
        "num_train_steps = steps_per_epoch * epochs\n",
        "num_warmup_steps = int(0.1*num_train_steps)\n",
        "\n",
        "init_lr = 3e-5\n",
        "optimizer = optimization.create_optimizer(init_lr=init_lr,\n",
        "                                          num_train_steps=num_train_steps,\n",
        "                                          num_warmup_steps=num_warmup_steps,\n",
        "                                          optimizer_type='adamw')"
      ],
      "execution_count": null,
      "outputs": []
    },
    {
      "cell_type": "code",
      "metadata": {
        "id": "H3k-QxbxqRde"
      },
      "source": [
        "model.compile(\n",
        "    optimizer=optimizer,\n",
        "    loss='categorical_crossentropy',\n",
        "    metrics=['accuracy',tf.keras.metrics.AUC(name=\"auc\"),]\n",
        ")"
      ],
      "execution_count": null,
      "outputs": []
    },
    {
      "cell_type": "code",
      "metadata": {
        "colab": {
          "base_uri": "https://localhost:8080/"
        },
        "id": "54cap4ARdhmn",
        "outputId": "7517fed5-10eb-4b1d-af42-fc98aea43d51"
      },
      "source": [
        "model.save('sent-model')"
      ],
      "execution_count": null,
      "outputs": [
        {
          "output_type": "stream",
          "text": [
            "WARNING:absl:Found untraced functions such as restored_function_body, restored_function_body, restored_function_body, restored_function_body, restored_function_body while saving (showing 5 of 165). These functions will not be directly callable after loading.\n"
          ],
          "name": "stderr"
        },
        {
          "output_type": "stream",
          "text": [
            "INFO:tensorflow:Assets written to: sent-model/assets\n"
          ],
          "name": "stdout"
        },
        {
          "output_type": "stream",
          "text": [
            "INFO:tensorflow:Assets written to: sent-model/assets\n"
          ],
          "name": "stderr"
        }
      ]
    },
    {
      "cell_type": "code",
      "metadata": {
        "id": "6vAul-nKeEWg"
      },
      "source": [
        "#guardamos mejor entrenamiento\n",
        "model_checkpoint_callback = tf.keras.callbacks.ModelCheckpoint('sent-model',save_best_only=True,verbose=1,monitor='val_auc',mode=\"max\")\n",
        "es_callback = tf.keras.callbacks.EarlyStopping(monitor='val_auc', min_delta=0.01, patience=5, verbose=0, mode='max', baseline=None, restore_best_weights=False )"
      ],
      "execution_count": null,
      "outputs": []
    },
    {
      "cell_type": "code",
      "metadata": {
        "colab": {
          "base_uri": "https://localhost:8080/"
        },
        "id": "NVzTeO0prOCf",
        "outputId": "e99230df-849e-44dc-98dd-6ab9ff30b4de"
      },
      "source": [
        "history = model.fit(\n",
        "    X_train,\n",
        "    y_train,\n",
        "    batch_size = 5,\n",
        "    epochs=epochs,\n",
        "    callbacks=[model_checkpoint_callback,es_callback],\n",
        "    validation_data=(X_val,y_val)\n",
        ")"
      ],
      "execution_count": null,
      "outputs": [
        {
          "output_type": "stream",
          "text": [
            "Epoch 1/50\n",
            "679/679 [==============================] - 29s 39ms/step - loss: 0.9191 - accuracy: 0.5781 - auc: 0.7588 - val_loss: 0.8494 - val_accuracy: 0.6355 - val_auc: 0.7952\n",
            "\n",
            "Epoch 00001: val_auc improved from -inf to 0.79517, saving model to sent-model\n"
          ],
          "name": "stdout"
        },
        {
          "output_type": "stream",
          "text": [
            "WARNING:absl:Found untraced functions such as restored_function_body, restored_function_body, restored_function_body, restored_function_body, restored_function_body while saving (showing 5 of 165). These functions will not be directly callable after loading.\n"
          ],
          "name": "stderr"
        },
        {
          "output_type": "stream",
          "text": [
            "INFO:tensorflow:Assets written to: sent-model/assets\n"
          ],
          "name": "stdout"
        },
        {
          "output_type": "stream",
          "text": [
            "INFO:tensorflow:Assets written to: sent-model/assets\n"
          ],
          "name": "stderr"
        },
        {
          "output_type": "stream",
          "text": [
            "Epoch 2/50\n",
            "679/679 [==============================] - 26s 38ms/step - loss: 0.8682 - accuracy: 0.6011 - auc: 0.7866 - val_loss: 0.8151 - val_accuracy: 0.6465 - val_auc: 0.8152\n",
            "\n",
            "Epoch 00002: val_auc improved from 0.79517 to 0.81518, saving model to sent-model\n"
          ],
          "name": "stdout"
        },
        {
          "output_type": "stream",
          "text": [
            "WARNING:absl:Found untraced functions such as restored_function_body, restored_function_body, restored_function_body, restored_function_body, restored_function_body while saving (showing 5 of 165). These functions will not be directly callable after loading.\n"
          ],
          "name": "stderr"
        },
        {
          "output_type": "stream",
          "text": [
            "INFO:tensorflow:Assets written to: sent-model/assets\n"
          ],
          "name": "stdout"
        },
        {
          "output_type": "stream",
          "text": [
            "INFO:tensorflow:Assets written to: sent-model/assets\n"
          ],
          "name": "stderr"
        },
        {
          "output_type": "stream",
          "text": [
            "Epoch 3/50\n",
            "679/679 [==============================] - 26s 39ms/step - loss: 0.8339 - accuracy: 0.6221 - auc: 0.8051 - val_loss: 0.8058 - val_accuracy: 0.6671 - val_auc: 0.8253\n",
            "\n",
            "Epoch 00003: val_auc improved from 0.81518 to 0.82528, saving model to sent-model\n"
          ],
          "name": "stdout"
        },
        {
          "output_type": "stream",
          "text": [
            "WARNING:absl:Found untraced functions such as restored_function_body, restored_function_body, restored_function_body, restored_function_body, restored_function_body while saving (showing 5 of 165). These functions will not be directly callable after loading.\n"
          ],
          "name": "stderr"
        },
        {
          "output_type": "stream",
          "text": [
            "INFO:tensorflow:Assets written to: sent-model/assets\n"
          ],
          "name": "stdout"
        },
        {
          "output_type": "stream",
          "text": [
            "INFO:tensorflow:Assets written to: sent-model/assets\n"
          ],
          "name": "stderr"
        },
        {
          "output_type": "stream",
          "text": [
            "Epoch 4/50\n",
            "679/679 [==============================] - 26s 38ms/step - loss: 0.8000 - accuracy: 0.6356 - auc: 0.8217 - val_loss: 0.7795 - val_accuracy: 0.6685 - val_auc: 0.8376\n",
            "\n",
            "Epoch 00004: val_auc improved from 0.82528 to 0.83760, saving model to sent-model\n"
          ],
          "name": "stdout"
        },
        {
          "output_type": "stream",
          "text": [
            "WARNING:absl:Found untraced functions such as restored_function_body, restored_function_body, restored_function_body, restored_function_body, restored_function_body while saving (showing 5 of 165). These functions will not be directly callable after loading.\n"
          ],
          "name": "stderr"
        },
        {
          "output_type": "stream",
          "text": [
            "INFO:tensorflow:Assets written to: sent-model/assets\n"
          ],
          "name": "stdout"
        },
        {
          "output_type": "stream",
          "text": [
            "INFO:tensorflow:Assets written to: sent-model/assets\n"
          ],
          "name": "stderr"
        },
        {
          "output_type": "stream",
          "text": [
            "Epoch 5/50\n",
            "679/679 [==============================] - 26s 38ms/step - loss: 0.7527 - accuracy: 0.6636 - auc: 0.8436 - val_loss: 0.7535 - val_accuracy: 0.6699 - val_auc: 0.8470\n",
            "\n",
            "Epoch 00005: val_auc improved from 0.83760 to 0.84704, saving model to sent-model\n"
          ],
          "name": "stdout"
        },
        {
          "output_type": "stream",
          "text": [
            "WARNING:absl:Found untraced functions such as restored_function_body, restored_function_body, restored_function_body, restored_function_body, restored_function_body while saving (showing 5 of 165). These functions will not be directly callable after loading.\n"
          ],
          "name": "stderr"
        },
        {
          "output_type": "stream",
          "text": [
            "INFO:tensorflow:Assets written to: sent-model/assets\n"
          ],
          "name": "stdout"
        },
        {
          "output_type": "stream",
          "text": [
            "INFO:tensorflow:Assets written to: sent-model/assets\n"
          ],
          "name": "stderr"
        },
        {
          "output_type": "stream",
          "text": [
            "Epoch 6/50\n",
            "679/679 [==============================] - 26s 39ms/step - loss: 0.7070 - accuracy: 0.6937 - auc: 0.8627 - val_loss: 0.7425 - val_accuracy: 0.6878 - val_auc: 0.8579\n",
            "\n",
            "Epoch 00006: val_auc improved from 0.84704 to 0.85793, saving model to sent-model\n"
          ],
          "name": "stdout"
        },
        {
          "output_type": "stream",
          "text": [
            "WARNING:absl:Found untraced functions such as restored_function_body, restored_function_body, restored_function_body, restored_function_body, restored_function_body while saving (showing 5 of 165). These functions will not be directly callable after loading.\n"
          ],
          "name": "stderr"
        },
        {
          "output_type": "stream",
          "text": [
            "INFO:tensorflow:Assets written to: sent-model/assets\n"
          ],
          "name": "stdout"
        },
        {
          "output_type": "stream",
          "text": [
            "INFO:tensorflow:Assets written to: sent-model/assets\n"
          ],
          "name": "stderr"
        },
        {
          "output_type": "stream",
          "text": [
            "Epoch 7/50\n",
            "679/679 [==============================] - 26s 38ms/step - loss: 0.6571 - accuracy: 0.7099 - auc: 0.8812 - val_loss: 0.7114 - val_accuracy: 0.6946 - val_auc: 0.8692\n",
            "\n",
            "Epoch 00007: val_auc improved from 0.85793 to 0.86919, saving model to sent-model\n"
          ],
          "name": "stdout"
        },
        {
          "output_type": "stream",
          "text": [
            "WARNING:absl:Found untraced functions such as restored_function_body, restored_function_body, restored_function_body, restored_function_body, restored_function_body while saving (showing 5 of 165). These functions will not be directly callable after loading.\n"
          ],
          "name": "stderr"
        },
        {
          "output_type": "stream",
          "text": [
            "INFO:tensorflow:Assets written to: sent-model/assets\n"
          ],
          "name": "stdout"
        },
        {
          "output_type": "stream",
          "text": [
            "INFO:tensorflow:Assets written to: sent-model/assets\n"
          ],
          "name": "stderr"
        },
        {
          "output_type": "stream",
          "text": [
            "Epoch 8/50\n",
            "679/679 [==============================] - 26s 39ms/step - loss: 0.6057 - accuracy: 0.7482 - auc: 0.8999 - val_loss: 0.7325 - val_accuracy: 0.7180 - val_auc: 0.8748\n",
            "\n",
            "Epoch 00008: val_auc improved from 0.86919 to 0.87484, saving model to sent-model\n"
          ],
          "name": "stdout"
        },
        {
          "output_type": "stream",
          "text": [
            "WARNING:absl:Found untraced functions such as restored_function_body, restored_function_body, restored_function_body, restored_function_body, restored_function_body while saving (showing 5 of 165). These functions will not be directly callable after loading.\n"
          ],
          "name": "stderr"
        },
        {
          "output_type": "stream",
          "text": [
            "INFO:tensorflow:Assets written to: sent-model/assets\n"
          ],
          "name": "stdout"
        },
        {
          "output_type": "stream",
          "text": [
            "INFO:tensorflow:Assets written to: sent-model/assets\n"
          ],
          "name": "stderr"
        },
        {
          "output_type": "stream",
          "text": [
            "Epoch 9/50\n",
            "679/679 [==============================] - 26s 39ms/step - loss: 0.5458 - accuracy: 0.7751 - auc: 0.9190 - val_loss: 0.6584 - val_accuracy: 0.7276 - val_auc: 0.8921\n",
            "\n",
            "Epoch 00009: val_auc improved from 0.87484 to 0.89207, saving model to sent-model\n"
          ],
          "name": "stdout"
        },
        {
          "output_type": "stream",
          "text": [
            "WARNING:absl:Found untraced functions such as restored_function_body, restored_function_body, restored_function_body, restored_function_body, restored_function_body while saving (showing 5 of 165). These functions will not be directly callable after loading.\n"
          ],
          "name": "stderr"
        },
        {
          "output_type": "stream",
          "text": [
            "INFO:tensorflow:Assets written to: sent-model/assets\n"
          ],
          "name": "stdout"
        },
        {
          "output_type": "stream",
          "text": [
            "INFO:tensorflow:Assets written to: sent-model/assets\n"
          ],
          "name": "stderr"
        },
        {
          "output_type": "stream",
          "text": [
            "Epoch 10/50\n",
            "679/679 [==============================] - 26s 38ms/step - loss: 0.4900 - accuracy: 0.8025 - auc: 0.9353 - val_loss: 0.6733 - val_accuracy: 0.7414 - val_auc: 0.9005\n",
            "\n",
            "Epoch 00010: val_auc improved from 0.89207 to 0.90047, saving model to sent-model\n"
          ],
          "name": "stdout"
        },
        {
          "output_type": "stream",
          "text": [
            "WARNING:absl:Found untraced functions such as restored_function_body, restored_function_body, restored_function_body, restored_function_body, restored_function_body while saving (showing 5 of 165). These functions will not be directly callable after loading.\n"
          ],
          "name": "stderr"
        },
        {
          "output_type": "stream",
          "text": [
            "INFO:tensorflow:Assets written to: sent-model/assets\n"
          ],
          "name": "stdout"
        },
        {
          "output_type": "stream",
          "text": [
            "INFO:tensorflow:Assets written to: sent-model/assets\n"
          ],
          "name": "stderr"
        },
        {
          "output_type": "stream",
          "text": [
            "Epoch 11/50\n",
            "679/679 [==============================] - 26s 39ms/step - loss: 0.4568 - accuracy: 0.8272 - auc: 0.9451 - val_loss: 0.6774 - val_accuracy: 0.7552 - val_auc: 0.9074\n",
            "\n",
            "Epoch 00011: val_auc improved from 0.90047 to 0.90741, saving model to sent-model\n"
          ],
          "name": "stdout"
        },
        {
          "output_type": "stream",
          "text": [
            "WARNING:absl:Found untraced functions such as restored_function_body, restored_function_body, restored_function_body, restored_function_body, restored_function_body while saving (showing 5 of 165). These functions will not be directly callable after loading.\n"
          ],
          "name": "stderr"
        },
        {
          "output_type": "stream",
          "text": [
            "INFO:tensorflow:Assets written to: sent-model/assets\n"
          ],
          "name": "stdout"
        },
        {
          "output_type": "stream",
          "text": [
            "INFO:tensorflow:Assets written to: sent-model/assets\n"
          ],
          "name": "stderr"
        },
        {
          "output_type": "stream",
          "text": [
            "Epoch 12/50\n",
            "679/679 [==============================] - 27s 39ms/step - loss: 0.4178 - accuracy: 0.8491 - auc: 0.9547 - val_loss: 0.7108 - val_accuracy: 0.7469 - val_auc: 0.9078\n",
            "\n",
            "Epoch 00012: val_auc improved from 0.90741 to 0.90782, saving model to sent-model\n"
          ],
          "name": "stdout"
        },
        {
          "output_type": "stream",
          "text": [
            "WARNING:absl:Found untraced functions such as restored_function_body, restored_function_body, restored_function_body, restored_function_body, restored_function_body while saving (showing 5 of 165). These functions will not be directly callable after loading.\n"
          ],
          "name": "stderr"
        },
        {
          "output_type": "stream",
          "text": [
            "INFO:tensorflow:Assets written to: sent-model/assets\n"
          ],
          "name": "stdout"
        },
        {
          "output_type": "stream",
          "text": [
            "INFO:tensorflow:Assets written to: sent-model/assets\n"
          ],
          "name": "stderr"
        },
        {
          "output_type": "stream",
          "text": [
            "Epoch 13/50\n",
            "679/679 [==============================] - 26s 39ms/step - loss: 0.4031 - accuracy: 0.8600 - auc: 0.9603 - val_loss: 0.7388 - val_accuracy: 0.7689 - val_auc: 0.9090\n",
            "\n",
            "Epoch 00013: val_auc improved from 0.90782 to 0.90903, saving model to sent-model\n"
          ],
          "name": "stdout"
        },
        {
          "output_type": "stream",
          "text": [
            "WARNING:absl:Found untraced functions such as restored_function_body, restored_function_body, restored_function_body, restored_function_body, restored_function_body while saving (showing 5 of 165). These functions will not be directly callable after loading.\n"
          ],
          "name": "stderr"
        },
        {
          "output_type": "stream",
          "text": [
            "INFO:tensorflow:Assets written to: sent-model/assets\n"
          ],
          "name": "stdout"
        },
        {
          "output_type": "stream",
          "text": [
            "INFO:tensorflow:Assets written to: sent-model/assets\n"
          ],
          "name": "stderr"
        },
        {
          "output_type": "stream",
          "text": [
            "Epoch 14/50\n",
            "679/679 [==============================] - 26s 39ms/step - loss: 0.3890 - accuracy: 0.8644 - auc: 0.9646 - val_loss: 0.8098 - val_accuracy: 0.7675 - val_auc: 0.9085\n",
            "\n",
            "Epoch 00014: val_auc did not improve from 0.90903\n",
            "Epoch 15/50\n",
            "679/679 [==============================] - 26s 38ms/step - loss: 0.3373 - accuracy: 0.8900 - auc: 0.9726 - val_loss: 0.9601 - val_accuracy: 0.7689 - val_auc: 0.9052\n",
            "\n",
            "Epoch 00015: val_auc did not improve from 0.90903\n",
            "Epoch 16/50\n",
            "679/679 [==============================] - 26s 38ms/step - loss: 0.3316 - accuracy: 0.8918 - auc: 0.9751 - val_loss: 0.9123 - val_accuracy: 0.7772 - val_auc: 0.9087\n",
            "\n",
            "Epoch 00016: val_auc did not improve from 0.90903\n",
            "Epoch 17/50\n",
            "679/679 [==============================] - 26s 38ms/step - loss: 0.3073 - accuracy: 0.9086 - auc: 0.9776 - val_loss: 1.0222 - val_accuracy: 0.7648 - val_auc: 0.8983\n",
            "\n",
            "Epoch 00017: val_auc did not improve from 0.90903\n",
            "Epoch 18/50\n",
            "679/679 [==============================] - 26s 38ms/step - loss: 0.2686 - accuracy: 0.9225 - auc: 0.9819 - val_loss: 1.1890 - val_accuracy: 0.7813 - val_auc: 0.8898\n",
            "\n",
            "Epoch 00018: val_auc did not improve from 0.90903\n",
            "Epoch 19/50\n",
            "679/679 [==============================] - 26s 38ms/step - loss: 0.2439 - accuracy: 0.9304 - auc: 0.9847 - val_loss: 1.1969 - val_accuracy: 0.7827 - val_auc: 0.8832\n",
            "\n",
            "Epoch 00019: val_auc did not improve from 0.90903\n",
            "Epoch 20/50\n",
            "679/679 [==============================] - 26s 38ms/step - loss: 0.2171 - accuracy: 0.9469 - auc: 0.9853 - val_loss: 1.2157 - val_accuracy: 0.7868 - val_auc: 0.8891\n",
            "\n",
            "Epoch 00020: val_auc did not improve from 0.90903\n",
            "Epoch 21/50\n",
            "679/679 [==============================] - 26s 38ms/step - loss: 0.2014 - accuracy: 0.9434 - auc: 0.9886 - val_loss: 1.3137 - val_accuracy: 0.7827 - val_auc: 0.8796\n",
            "\n",
            "Epoch 00021: val_auc did not improve from 0.90903\n",
            "Epoch 22/50\n",
            "679/679 [==============================] - 26s 38ms/step - loss: 0.1754 - accuracy: 0.9570 - auc: 0.9892 - val_loss: 1.3841 - val_accuracy: 0.7785 - val_auc: 0.8776\n",
            "\n",
            "Epoch 00022: val_auc did not improve from 0.90903\n",
            "Epoch 23/50\n",
            "679/679 [==============================] - 26s 38ms/step - loss: 0.1556 - accuracy: 0.9637 - auc: 0.9887 - val_loss: 1.4876 - val_accuracy: 0.7717 - val_auc: 0.8718\n",
            "\n",
            "Epoch 00023: val_auc did not improve from 0.90903\n",
            "Epoch 24/50\n",
            "679/679 [==============================] - 26s 38ms/step - loss: 0.1218 - accuracy: 0.9676 - auc: 0.9929 - val_loss: 1.6035 - val_accuracy: 0.7717 - val_auc: 0.8683\n",
            "\n",
            "Epoch 00024: val_auc did not improve from 0.90903\n",
            "Epoch 25/50\n",
            "679/679 [==============================] - 26s 38ms/step - loss: 0.1075 - accuracy: 0.9732 - auc: 0.9940 - val_loss: 1.6153 - val_accuracy: 0.7882 - val_auc: 0.8671\n",
            "\n",
            "Epoch 00025: val_auc did not improve from 0.90903\n",
            "Epoch 26/50\n",
            "679/679 [==============================] - 26s 38ms/step - loss: 0.1077 - accuracy: 0.9749 - auc: 0.9930 - val_loss: 1.7422 - val_accuracy: 0.7772 - val_auc: 0.8619\n",
            "\n",
            "Epoch 00026: val_auc did not improve from 0.90903\n",
            "Epoch 27/50\n",
            "679/679 [==============================] - 26s 38ms/step - loss: 0.0852 - accuracy: 0.9800 - auc: 0.9952 - val_loss: 1.7523 - val_accuracy: 0.7772 - val_auc: 0.8655\n",
            "\n",
            "Epoch 00027: val_auc did not improve from 0.90903\n",
            "Epoch 28/50\n",
            "679/679 [==============================] - 26s 38ms/step - loss: 0.0832 - accuracy: 0.9811 - auc: 0.9952 - val_loss: 1.8248 - val_accuracy: 0.7648 - val_auc: 0.8646\n",
            "\n",
            "Epoch 00028: val_auc did not improve from 0.90903\n",
            "Epoch 29/50\n",
            "679/679 [==============================] - 26s 38ms/step - loss: 0.0750 - accuracy: 0.9823 - auc: 0.9963 - val_loss: 1.9209 - val_accuracy: 0.7662 - val_auc: 0.8583\n",
            "\n",
            "Epoch 00029: val_auc did not improve from 0.90903\n",
            "Epoch 30/50\n",
            "679/679 [==============================] - 26s 38ms/step - loss: 0.0768 - accuracy: 0.9808 - auc: 0.9967 - val_loss: 1.8584 - val_accuracy: 0.7758 - val_auc: 0.8656\n",
            "\n",
            "Epoch 00030: val_auc did not improve from 0.90903\n",
            "Epoch 31/50\n",
            "679/679 [==============================] - 26s 38ms/step - loss: 0.0707 - accuracy: 0.9850 - auc: 0.9959 - val_loss: 1.9306 - val_accuracy: 0.7785 - val_auc: 0.8646\n",
            "\n",
            "Epoch 00031: val_auc did not improve from 0.90903\n",
            "Epoch 32/50\n",
            "679/679 [==============================] - 26s 38ms/step - loss: 0.0681 - accuracy: 0.9861 - auc: 0.9959 - val_loss: 1.9505 - val_accuracy: 0.7799 - val_auc: 0.8630\n",
            "\n",
            "Epoch 00032: val_auc did not improve from 0.90903\n",
            "Epoch 33/50\n",
            "679/679 [==============================] - 26s 38ms/step - loss: 0.0639 - accuracy: 0.9864 - auc: 0.9958 - val_loss: 2.0548 - val_accuracy: 0.7772 - val_auc: 0.8556\n",
            "\n",
            "Epoch 00033: val_auc did not improve from 0.90903\n",
            "Epoch 34/50\n",
            "679/679 [==============================] - 26s 38ms/step - loss: 0.0536 - accuracy: 0.9879 - auc: 0.9968 - val_loss: 2.1290 - val_accuracy: 0.7662 - val_auc: 0.8518\n",
            "\n",
            "Epoch 00034: val_auc did not improve from 0.90903\n",
            "Epoch 35/50\n",
            "679/679 [==============================] - 26s 38ms/step - loss: 0.0539 - accuracy: 0.9882 - auc: 0.9969 - val_loss: 2.1144 - val_accuracy: 0.7785 - val_auc: 0.8553\n",
            "\n",
            "Epoch 00035: val_auc did not improve from 0.90903\n",
            "Epoch 36/50\n",
            "679/679 [==============================] - 27s 39ms/step - loss: 0.0426 - accuracy: 0.9894 - auc: 0.9980 - val_loss: 2.0386 - val_accuracy: 0.7758 - val_auc: 0.8604\n",
            "\n",
            "Epoch 00036: val_auc did not improve from 0.90903\n",
            "Epoch 37/50\n",
            "679/679 [==============================] - 27s 39ms/step - loss: 0.0696 - accuracy: 0.9870 - auc: 0.9959 - val_loss: 2.1151 - val_accuracy: 0.7717 - val_auc: 0.8537\n",
            "\n",
            "Epoch 00037: val_auc did not improve from 0.90903\n",
            "Epoch 38/50\n",
            "679/679 [==============================] - 26s 39ms/step - loss: 0.0387 - accuracy: 0.9917 - auc: 0.9977 - val_loss: 2.1262 - val_accuracy: 0.7868 - val_auc: 0.8566\n",
            "\n",
            "Epoch 00038: val_auc did not improve from 0.90903\n",
            "Epoch 39/50\n",
            "679/679 [==============================] - 26s 38ms/step - loss: 0.0430 - accuracy: 0.9926 - auc: 0.9971 - val_loss: 2.1738 - val_accuracy: 0.7758 - val_auc: 0.8515\n",
            "\n",
            "Epoch 00039: val_auc did not improve from 0.90903\n",
            "Epoch 40/50\n",
            "679/679 [==============================] - 26s 38ms/step - loss: 0.0421 - accuracy: 0.9903 - auc: 0.9977 - val_loss: 2.1768 - val_accuracy: 0.7813 - val_auc: 0.8577\n",
            "\n",
            "Epoch 00040: val_auc did not improve from 0.90903\n",
            "Epoch 41/50\n",
            "679/679 [==============================] - 26s 38ms/step - loss: 0.0369 - accuracy: 0.9929 - auc: 0.9973 - val_loss: 2.2842 - val_accuracy: 0.7703 - val_auc: 0.8503\n",
            "\n",
            "Epoch 00041: val_auc did not improve from 0.90903\n",
            "Epoch 42/50\n",
            "679/679 [==============================] - 26s 38ms/step - loss: 0.0335 - accuracy: 0.9941 - auc: 0.9978 - val_loss: 2.3766 - val_accuracy: 0.7730 - val_auc: 0.8414\n",
            "\n",
            "Epoch 00042: val_auc did not improve from 0.90903\n",
            "Epoch 43/50\n",
            "679/679 [==============================] - 26s 38ms/step - loss: 0.0347 - accuracy: 0.9920 - auc: 0.9985 - val_loss: 2.3827 - val_accuracy: 0.7565 - val_auc: 0.8435\n",
            "\n",
            "Epoch 00043: val_auc did not improve from 0.90903\n",
            "Epoch 44/50\n",
            "679/679 [==============================] - 26s 38ms/step - loss: 0.0325 - accuracy: 0.9935 - auc: 0.9978 - val_loss: 2.2918 - val_accuracy: 0.7827 - val_auc: 0.8486\n",
            "\n",
            "Epoch 00044: val_auc did not improve from 0.90903\n",
            "Epoch 45/50\n",
            "679/679 [==============================] - 26s 39ms/step - loss: 0.0248 - accuracy: 0.9944 - auc: 0.9982 - val_loss: 2.3287 - val_accuracy: 0.7703 - val_auc: 0.8474\n",
            "\n",
            "Epoch 00045: val_auc did not improve from 0.90903\n",
            "Epoch 46/50\n",
            "679/679 [==============================] - 26s 39ms/step - loss: 0.0252 - accuracy: 0.9950 - auc: 0.9987 - val_loss: 2.3785 - val_accuracy: 0.7758 - val_auc: 0.8504\n",
            "\n",
            "Epoch 00046: val_auc did not improve from 0.90903\n",
            "Epoch 47/50\n",
            "679/679 [==============================] - 26s 38ms/step - loss: 0.0248 - accuracy: 0.9938 - auc: 0.9989 - val_loss: 2.4266 - val_accuracy: 0.7785 - val_auc: 0.8467\n",
            "\n",
            "Epoch 00047: val_auc did not improve from 0.90903\n",
            "Epoch 48/50\n",
            "679/679 [==============================] - 26s 38ms/step - loss: 0.0241 - accuracy: 0.9959 - auc: 0.9985 - val_loss: 2.4115 - val_accuracy: 0.7799 - val_auc: 0.8525\n",
            "\n",
            "Epoch 00048: val_auc did not improve from 0.90903\n",
            "Epoch 49/50\n",
            "679/679 [==============================] - 26s 38ms/step - loss: 0.0172 - accuracy: 0.9953 - auc: 0.9992 - val_loss: 2.4494 - val_accuracy: 0.7785 - val_auc: 0.8487\n",
            "\n",
            "Epoch 00049: val_auc did not improve from 0.90903\n",
            "Epoch 50/50\n",
            "679/679 [==============================] - 26s 38ms/step - loss: 0.0209 - accuracy: 0.9959 - auc: 0.9987 - val_loss: 2.4907 - val_accuracy: 0.7730 - val_auc: 0.8410\n",
            "\n",
            "Epoch 00050: val_auc did not improve from 0.90903\n"
          ],
          "name": "stdout"
        }
      ]
    },
    {
      "cell_type": "code",
      "metadata": {
        "colab": {
          "base_uri": "https://localhost:8080/"
        },
        "id": "pLaqjpjJXkhX",
        "outputId": "9c5ef072-4582-4b84-c50f-32eca1bd5f00"
      },
      "source": [
        "history.history.keys()"
      ],
      "execution_count": null,
      "outputs": [
        {
          "output_type": "execute_result",
          "data": {
            "text/plain": [
              "dict_keys(['loss', 'accuracy', 'auc', 'val_loss', 'val_accuracy', 'val_auc'])"
            ]
          },
          "metadata": {
            "tags": []
          },
          "execution_count": 49
        }
      ]
    },
    {
      "cell_type": "code",
      "metadata": {
        "colab": {
          "base_uri": "https://localhost:8080/",
          "height": 295
        },
        "id": "SXcrsxufX3q9",
        "outputId": "491b34b7-b143-4c3c-8284-96d184fa3706"
      },
      "source": [
        "from matplotlib import pyplot as plt\n",
        "def plot_lines(history,train_key,val_key,title,y_tag):\n",
        "  plt.plot(history.history[train_key])\n",
        "  plt.plot(history.history[val_key])\n",
        "  plt.title(title)\n",
        "  plt.ylabel(y_tag)\n",
        "  plt.xlabel('epoch')\n",
        "  plt.legend(['train', 'val'], loc='upper left')\n",
        "  plt.show()\n",
        "\n",
        "plot_lines(history,'accuracy','val_accuracy','model accuracy','accuracy')"
      ],
      "execution_count": null,
      "outputs": [
        {
          "output_type": "display_data",
          "data": {
            "image/png": "[encoded data removed]",
            "text/plain": [
              "<Figure size 432x288 with 1 Axes>"
            ]
          },
          "metadata": {
            "tags": [],
            "needs_background": "light"
          }
        }
      ]
    },
    {
      "cell_type": "code",
      "metadata": {
        "colab": {
          "base_uri": "https://localhost:8080/",
          "height": 295
        },
        "id": "h43elGK6Ynln",
        "outputId": "97f64db8-2300-41a2-de57-04fab8f738f7"
      },
      "source": [
        "plot_lines(history,'auc','val_auc','model auc','auc')"
      ],
      "execution_count": null,
      "outputs": [
        {
          "output_type": "display_data",
          "data": {
            "image/png": "[encoded data removed]",
            "text/plain": [
              "<Figure size 432x288 with 1 Axes>"
            ]
          },
          "metadata": {
            "tags": [],
            "needs_background": "light"
          }
        }
      ]
    },
    {
      "cell_type": "code",
      "metadata": {
        "id": "d4w7dOlAsbj0",
        "colab": {
          "base_uri": "https://localhost:8080/"
        },
        "outputId": "5e455655-16a3-4da6-ba2c-428c67b1bf9d"
      },
      "source": [
        "evals = model.evaluate(X_test, y_test)"
      ],
      "execution_count": null,
      "outputs": [
        {
          "output_type": "stream",
          "text": [
            "23/23 [==============================] - 2s 93ms/step - loss: 2.6499 - accuracy: 0.7607 - auc: 0.8385\n"
          ],
          "name": "stdout"
        }
      ]
    },
    {
      "cell_type": "code",
      "metadata": {
        "colab": {
          "base_uri": "https://localhost:8080/"
        },
        "id": "mjVvXqhuZK5R",
        "outputId": "48ad3e27-374c-4ae8-f9cc-aac7eafdc471"
      },
      "source": [
        "model.load_weights('sent-model')"
      ],
      "execution_count": null,
      "outputs": [
        {
          "output_type": "execute_result",
          "data": {
            "text/plain": [
              "<tensorflow.python.training.tracking.util.CheckpointLoadStatus at 0x7f3378fb7710>"
            ]
          },
          "metadata": {
            "tags": []
          },
          "execution_count": 56
        }
      ]
    },
    {
      "cell_type": "code",
      "metadata": {
        "colab": {
          "base_uri": "https://localhost:8080/"
        },
        "id": "k0Su2YVVZVz4",
        "outputId": "45f9e784-9011-49bf-9f6a-d14a43a21395"
      },
      "source": [
        "model.evaluate(X_test, y_test)"
      ],
      "execution_count": null,
      "outputs": [
        {
          "output_type": "stream",
          "text": [
            "23/23 [==============================] - 2s 91ms/step - loss: 0.7614 - accuracy: 0.7730 - auc: 0.9120\n"
          ],
          "name": "stdout"
        },
        {
          "output_type": "execute_result",
          "data": {
            "text/plain": [
              "[0.7614190578460693, 0.7730398774147034, 0.9120062589645386]"
            ]
          },
          "metadata": {
            "tags": []
          },
          "execution_count": 57
        }
      ]
    },
    {
      "cell_type": "code",
      "metadata": {
        "id": "bVuMnJTpZYro"
      },
      "source": [
        "#probamos con dataset concatenado\n",
        "df = pd.read_csv(\"archive/concat_dataset.csv\")"
      ],
      "execution_count": null,
      "outputs": []
    },
    {
      "cell_type": "code",
      "metadata": {
        "colab": {
          "base_uri": "https://localhost:8080/",
          "height": 435
        },
        "id": "F1ozjSsXIIBz",
        "outputId": "08785fa4-5f09-43c8-eb2d-2afeda2b1eaf"
      },
      "source": [
        "df.head()"
      ],
      "execution_count": null,
      "outputs": [
        {
          "output_type": "execute_result",
          "data": {
            "text/html": [
              "<div>\n",
              "<style scoped>\n",
              "    .dataframe tbody tr th:only-of-type {\n",
              "        vertical-align: middle;\n",
              "    }\n",
              "\n",
              "    .dataframe tbody tr th {\n",
              "        vertical-align: top;\n",
              "    }\n",
              "\n",
              "    .dataframe thead th {\n",
              "        text-align: right;\n",
              "    }\n",
              "</style>\n",
              "<table border=\"1\" class=\"dataframe\">\n",
              "  <thead>\n",
              "    <tr style=\"text-align: right;\">\n",
              "      <th></th>\n",
              "      <th>ticker_symbol</th>\n",
              "      <th>current_monday</th>\n",
              "      <th>body</th>\n",
              "      <th>Open_x</th>\n",
              "      <th>High_x</th>\n",
              "      <th>Low_x</th>\n",
              "      <th>Close_x</th>\n",
              "      <th>Adj Close_x</th>\n",
              "      <th>Volume_x</th>\n",
              "      <th>next_monday</th>\n",
              "      <th>Open_y</th>\n",
              "      <th>High_y</th>\n",
              "      <th>Low_y</th>\n",
              "      <th>Close_y</th>\n",
              "      <th>Adj Close_y</th>\n",
              "      <th>Volume_y</th>\n",
              "      <th>abs_dif</th>\n",
              "      <th>rel_dif</th>\n",
              "      <th>type_dif</th>\n",
              "    </tr>\n",
              "  </thead>\n",
              "  <tbody>\n",
              "    <tr>\n",
              "      <th>0</th>\n",
              "      <td>AAPL</td>\n",
              "      <td>2014-12-29</td>\n",
              "      <td>lx21 made $10,008  on $AAPL -Check it out! htt...</td>\n",
              "      <td>28.447500</td>\n",
              "      <td>28.692499</td>\n",
              "      <td>26.837500</td>\n",
              "      <td>27.332500</td>\n",
              "      <td>24.819241</td>\n",
              "      <td>608353600</td>\n",
              "      <td>2015-01-05</td>\n",
              "      <td>27.072500</td>\n",
              "      <td>28.312500</td>\n",
              "      <td>26.157499</td>\n",
              "      <td>28.002501</td>\n",
              "      <td>25.427635</td>\n",
              "      <td>1.133010e+09</td>\n",
              "      <td>-1.375000</td>\n",
              "      <td>-0.048335</td>\n",
              "      <td>-1</td>\n",
              "    </tr>\n",
              "    <tr>\n",
              "      <th>1</th>\n",
              "      <td>AAPL</td>\n",
              "      <td>2015-01-05</td>\n",
              "      <td>Stock Contest!! Pick $AAPL and WIN a FREE Tabl...</td>\n",
              "      <td>27.072500</td>\n",
              "      <td>28.312500</td>\n",
              "      <td>26.157499</td>\n",
              "      <td>28.002501</td>\n",
              "      <td>25.427635</td>\n",
              "      <td>1133010000</td>\n",
              "      <td>2015-01-12</td>\n",
              "      <td>28.150000</td>\n",
              "      <td>28.200001</td>\n",
              "      <td>26.299999</td>\n",
              "      <td>26.497499</td>\n",
              "      <td>24.061016</td>\n",
              "      <td>1.216906e+09</td>\n",
              "      <td>1.077500</td>\n",
              "      <td>0.039801</td>\n",
              "      <td>1</td>\n",
              "    </tr>\n",
              "    <tr>\n",
              "      <th>2</th>\n",
              "      <td>AAPL</td>\n",
              "      <td>2015-01-12</td>\n",
              "      <td>#TOPTICKERTWEETS $FB $GOOG $GOOGL $YHOO $SPY $...</td>\n",
              "      <td>28.150000</td>\n",
              "      <td>28.200001</td>\n",
              "      <td>26.299999</td>\n",
              "      <td>26.497499</td>\n",
              "      <td>24.061016</td>\n",
              "      <td>1216906400</td>\n",
              "      <td>2015-01-19</td>\n",
              "      <td>26.959999</td>\n",
              "      <td>28.437500</td>\n",
              "      <td>26.625000</td>\n",
              "      <td>28.245001</td>\n",
              "      <td>25.647839</td>\n",
              "      <td>7.949480e+08</td>\n",
              "      <td>-1.190001</td>\n",
              "      <td>-0.042274</td>\n",
              "      <td>-1</td>\n",
              "    </tr>\n",
              "    <tr>\n",
              "      <th>3</th>\n",
              "      <td>AAPL</td>\n",
              "      <td>2015-01-19</td>\n",
              "      <td>THE BINARY OPTIONS COMPETITION WIN $100,000 ht...</td>\n",
              "      <td>26.959999</td>\n",
              "      <td>28.437500</td>\n",
              "      <td>26.625000</td>\n",
              "      <td>28.245001</td>\n",
              "      <td>25.647839</td>\n",
              "      <td>794948000</td>\n",
              "      <td>2015-01-26</td>\n",
              "      <td>28.434999</td>\n",
              "      <td>30.000000</td>\n",
              "      <td>27.257500</td>\n",
              "      <td>29.290001</td>\n",
              "      <td>26.596750</td>\n",
              "      <td>1.863371e+09</td>\n",
              "      <td>1.475000</td>\n",
              "      <td>0.054711</td>\n",
              "      <td>1</td>\n",
              "    </tr>\n",
              "    <tr>\n",
              "      <th>4</th>\n",
              "      <td>AAPL</td>\n",
              "      <td>2015-01-26</td>\n",
              "      <td>If Apple reports it sold over 70M iPhones in t...</td>\n",
              "      <td>28.434999</td>\n",
              "      <td>30.000000</td>\n",
              "      <td>27.257500</td>\n",
              "      <td>29.290001</td>\n",
              "      <td>26.596750</td>\n",
              "      <td>1863370800</td>\n",
              "      <td>2015-02-02</td>\n",
              "      <td>29.512501</td>\n",
              "      <td>30.127501</td>\n",
              "      <td>29.020000</td>\n",
              "      <td>29.732500</td>\n",
              "      <td>26.998556</td>\n",
              "      <td>1.083029e+09</td>\n",
              "      <td>1.077502</td>\n",
              "      <td>0.037894</td>\n",
              "      <td>1</td>\n",
              "    </tr>\n",
              "  </tbody>\n",
              "</table>\n",
              "</div>"
            ],
            "text/plain": [
              "  ticker_symbol current_monday  ...   rel_dif  type_dif\n",
              "0          AAPL     2014-12-29  ... -0.048335        -1\n",
              "1          AAPL     2015-01-05  ...  0.039801         1\n",
              "2          AAPL     2015-01-12  ... -0.042274        -1\n",
              "3          AAPL     2015-01-19  ...  0.054711         1\n",
              "4          AAPL     2015-01-26  ...  0.037894         1\n",
              "\n",
              "[5 rows x 19 columns]"
            ]
          },
          "metadata": {
            "tags": []
          },
          "execution_count": 18
        }
      ]
    },
    {
      "cell_type": "code",
      "metadata": {
        "colab": {
          "base_uri": "https://localhost:8080/"
        },
        "id": "cd6jB9npEuUX",
        "outputId": "72701937-5b74-4921-e5b4-59b0d3150f68"
      },
      "source": [
        "df.shape"
      ],
      "execution_count": null,
      "outputs": [
        {
          "output_type": "execute_result",
          "data": {
            "text/plain": [
              "(1572, 19)"
            ]
          },
          "metadata": {
            "tags": []
          },
          "execution_count": 16
        }
      ]
    },
    {
      "cell_type": "code",
      "metadata": {
        "colab": {
          "base_uri": "https://localhost:8080/"
        },
        "id": "LIv0Xr1DFk2S",
        "outputId": "55aec988-bc4b-45b8-f23e-7550d79db845"
      },
      "source": [
        "df.body.apply(len).describe()"
      ],
      "execution_count": null,
      "outputs": [
        {
          "output_type": "execute_result",
          "data": {
            "text/plain": [
              "count    1.572000e+03\n",
              "mean     3.671885e+05\n",
              "std      3.156297e+05\n",
              "min      3.096900e+04\n",
              "25%      1.603275e+05\n",
              "50%      2.569465e+05\n",
              "75%      4.692195e+05\n",
              "max      2.462188e+06\n",
              "Name: body, dtype: float64"
            ]
          },
          "metadata": {
            "tags": []
          },
          "execution_count": 17
        }
      ]
    },
    {
      "cell_type": "code",
      "metadata": {
        "id": "x1N3bpcmbFhi"
      },
      "source": [
        "X = df.body.values"
      ],
      "execution_count": null,
      "outputs": []
    },
    {
      "cell_type": "code",
      "metadata": {
        "id": "YukRm0e0uBBG"
      },
      "source": [
        "bert_preprocess_model = hub.KerasLayer(tfhub_handle_preprocess)"
      ],
      "execution_count": null,
      "outputs": []
    },
    {
      "cell_type": "code",
      "metadata": {
        "colab": {
          "base_uri": "https://localhost:8080/",
          "height": 424
        },
        "id": "xHdQcIrccSaD",
        "outputId": "ed3849fe-17fb-483f-aca9-aa44c139b45c"
      },
      "source": [
        "pd.get_dummies(df.type_dif)"
      ],
      "execution_count": null,
      "outputs": [
        {
          "output_type": "execute_result",
          "data": {
            "text/html": [
              "<div>\n",
              "<style scoped>\n",
              "    .dataframe tbody tr th:only-of-type {\n",
              "        vertical-align: middle;\n",
              "    }\n",
              "\n",
              "    .dataframe tbody tr th {\n",
              "        vertical-align: top;\n",
              "    }\n",
              "\n",
              "    .dataframe thead th {\n",
              "        text-align: right;\n",
              "    }\n",
              "</style>\n",
              "<table border=\"1\" class=\"dataframe\">\n",
              "  <thead>\n",
              "    <tr style=\"text-align: right;\">\n",
              "      <th></th>\n",
              "      <th>-1</th>\n",
              "      <th>0</th>\n",
              "      <th>1</th>\n",
              "    </tr>\n",
              "  </thead>\n",
              "  <tbody>\n",
              "    <tr>\n",
              "      <th>0</th>\n",
              "      <td>1</td>\n",
              "      <td>0</td>\n",
              "      <td>0</td>\n",
              "    </tr>\n",
              "    <tr>\n",
              "      <th>1</th>\n",
              "      <td>0</td>\n",
              "      <td>0</td>\n",
              "      <td>1</td>\n",
              "    </tr>\n",
              "    <tr>\n",
              "      <th>2</th>\n",
              "      <td>1</td>\n",
              "      <td>0</td>\n",
              "      <td>0</td>\n",
              "    </tr>\n",
              "    <tr>\n",
              "      <th>3</th>\n",
              "      <td>0</td>\n",
              "      <td>0</td>\n",
              "      <td>1</td>\n",
              "    </tr>\n",
              "    <tr>\n",
              "      <th>4</th>\n",
              "      <td>0</td>\n",
              "      <td>0</td>\n",
              "      <td>1</td>\n",
              "    </tr>\n",
              "    <tr>\n",
              "      <th>...</th>\n",
              "      <td>...</td>\n",
              "      <td>...</td>\n",
              "      <td>...</td>\n",
              "    </tr>\n",
              "    <tr>\n",
              "      <th>1567</th>\n",
              "      <td>0</td>\n",
              "      <td>0</td>\n",
              "      <td>1</td>\n",
              "    </tr>\n",
              "    <tr>\n",
              "      <th>1568</th>\n",
              "      <td>0</td>\n",
              "      <td>0</td>\n",
              "      <td>1</td>\n",
              "    </tr>\n",
              "    <tr>\n",
              "      <th>1569</th>\n",
              "      <td>0</td>\n",
              "      <td>0</td>\n",
              "      <td>1</td>\n",
              "    </tr>\n",
              "    <tr>\n",
              "      <th>1570</th>\n",
              "      <td>0</td>\n",
              "      <td>0</td>\n",
              "      <td>1</td>\n",
              "    </tr>\n",
              "    <tr>\n",
              "      <th>1571</th>\n",
              "      <td>0</td>\n",
              "      <td>0</td>\n",
              "      <td>1</td>\n",
              "    </tr>\n",
              "  </tbody>\n",
              "</table>\n",
              "<p>1572 rows × 3 columns</p>\n",
              "</div>"
            ],
            "text/plain": [
              "      -1   0   1\n",
              "0      1   0   0\n",
              "1      0   0   1\n",
              "2      1   0   0\n",
              "3      0   0   1\n",
              "4      0   0   1\n",
              "...   ..  ..  ..\n",
              "1567   0   0   1\n",
              "1568   0   0   1\n",
              "1569   0   0   1\n",
              "1570   0   0   1\n",
              "1571   0   0   1\n",
              "\n",
              "[1572 rows x 3 columns]"
            ]
          },
          "metadata": {
            "tags": []
          },
          "execution_count": 71
        }
      ]
    },
    {
      "cell_type": "code",
      "metadata": {
        "id": "g4QdPjQfbJno"
      },
      "source": [
        "#get dummies para obtener una polaridad mas variada\n",
        "y = pd.get_dummies(df.type_dif).values"
      ],
      "execution_count": null,
      "outputs": []
    },
    {
      "cell_type": "code",
      "metadata": {
        "id": "Kp3a_XFMbO5T"
      },
      "source": [
        "X_train, X_test, y_train, y_test = train_test_split( X, y, test_size=0.2, random_state=0)\n",
        "X_val, X_test, y_val, y_test = train_test_split( X_test, y_test, test_size=0.5, random_state=0)"
      ],
      "execution_count": null,
      "outputs": []
    },
    {
      "cell_type": "code",
      "metadata": {
        "id": "cpmkbQDfbn8F"
      },
      "source": [
        "#hiperparametros BERT\n",
        "epochs = 50\n",
        "steps_per_epoch = X_train.shape[0]\n",
        "num_train_steps = steps_per_epoch * epochs\n",
        "num_warmup_steps = int(0.1*num_train_steps)\n",
        "\n",
        "init_lr = 3e-5\n",
        "optimizer = optimization.create_optimizer(init_lr=init_lr,\n",
        "                                          num_train_steps=num_train_steps,\n",
        "                                          num_warmup_steps=num_warmup_steps,\n",
        "                                          optimizer_type='adamw')"
      ],
      "execution_count": null,
      "outputs": []
    },
    {
      "cell_type": "code",
      "metadata": {
        "id": "dErZB28Xbn8I"
      },
      "source": [
        "model.compile(\n",
        "    optimizer=optimizer,\n",
        "    loss='categorical_crossentropy',\n",
        "    metrics=['accuracy',tf.keras.metrics.AUC(name=\"auc\"),]\n",
        ")"
      ],
      "execution_count": null,
      "outputs": []
    },
    {
      "cell_type": "code",
      "metadata": {
        "colab": {
          "base_uri": "https://localhost:8080/"
        },
        "id": "kyp2weTUbn8I",
        "outputId": "dc2c026b-7216-418e-d5f2-386d612bb12a"
      },
      "source": [
        "model.save('sent-model-2')"
      ],
      "execution_count": null,
      "outputs": [
        {
          "output_type": "stream",
          "text": [
            "WARNING:absl:Found untraced functions such as restored_function_body, restored_function_body, restored_function_body, restored_function_body, restored_function_body while saving (showing 5 of 165). These functions will not be directly callable after loading.\n"
          ],
          "name": "stderr"
        },
        {
          "output_type": "stream",
          "text": [
            "INFO:tensorflow:Assets written to: sent-model-2/assets\n"
          ],
          "name": "stdout"
        },
        {
          "output_type": "stream",
          "text": [
            "INFO:tensorflow:Assets written to: sent-model-2/assets\n"
          ],
          "name": "stderr"
        }
      ]
    },
    {
      "cell_type": "code",
      "metadata": {
        "id": "q_APPtMbbn8J"
      },
      "source": [
        "model_checkpoint_callback = tf.keras.callbacks.ModelCheckpoint('sent-model-2',save_best_only=True,verbose=1,monitor='val_auc',mode=\"max\")\n",
        "es_callback = tf.keras.callbacks.EarlyStopping(monitor='val_auc', min_delta=0.01, patience=5, verbose=0, mode='max', baseline=None, restore_best_weights=False )"
      ],
      "execution_count": null,
      "outputs": []
    },
    {
      "cell_type": "code",
      "metadata": {
        "colab": {
          "base_uri": "https://localhost:8080/"
        },
        "id": "7v1ueD4AcowR",
        "outputId": "f41d9c2d-77b1-4af6-86bc-d135fbc5cbc1"
      },
      "source": [
        "history = model.fit(\n",
        "    X_train,\n",
        "    y_train,\n",
        "    batch_size = 5,\n",
        "    epochs=epochs,\n",
        "    callbacks=[model_checkpoint_callback,es_callback],\n",
        "    validation_data=(X_val,y_val)\n",
        ")"
      ],
      "execution_count": null,
      "outputs": [
        {
          "output_type": "stream",
          "text": [
            "Epoch 1/50\n",
            "252/252 [==============================] - 266s 1s/step - loss: 4.1133 - accuracy: 0.1090 - auc: 0.3056 - val_loss: 2.9380 - val_accuracy: 0.2038 - val_auc: 0.3564\n",
            "\n",
            "Epoch 00001: val_auc improved from -inf to 0.35642, saving model to sent-model-2\n"
          ],
          "name": "stdout"
        },
        {
          "output_type": "stream",
          "text": [
            "WARNING:absl:Found untraced functions such as restored_function_body, restored_function_body, restored_function_body, restored_function_body, restored_function_body while saving (showing 5 of 165). These functions will not be directly callable after loading.\n"
          ],
          "name": "stderr"
        },
        {
          "output_type": "stream",
          "text": [
            "INFO:tensorflow:Assets written to: sent-model-2/assets\n"
          ],
          "name": "stdout"
        },
        {
          "output_type": "stream",
          "text": [
            "INFO:tensorflow:Assets written to: sent-model-2/assets\n"
          ],
          "name": "stderr"
        },
        {
          "output_type": "stream",
          "text": [
            "Epoch 2/50\n",
            "252/252 [==============================] - 267s 1s/step - loss: 1.6172 - accuracy: 0.4320 - auc: 0.6053 - val_loss: 1.0459 - val_accuracy: 0.5096 - val_auc: 0.7066\n",
            "\n",
            "Epoch 00002: val_auc improved from 0.35642 to 0.70662, saving model to sent-model-2\n"
          ],
          "name": "stdout"
        },
        {
          "output_type": "stream",
          "text": [
            "WARNING:absl:Found untraced functions such as restored_function_body, restored_function_body, restored_function_body, restored_function_body, restored_function_body while saving (showing 5 of 165). These functions will not be directly callable after loading.\n"
          ],
          "name": "stderr"
        },
        {
          "output_type": "stream",
          "text": [
            "INFO:tensorflow:Assets written to: sent-model-2/assets\n"
          ],
          "name": "stdout"
        },
        {
          "output_type": "stream",
          "text": [
            "INFO:tensorflow:Assets written to: sent-model-2/assets\n"
          ],
          "name": "stderr"
        },
        {
          "output_type": "stream",
          "text": [
            "Epoch 3/50\n",
            "252/252 [==============================] - 267s 1s/step - loss: 0.9409 - accuracy: 0.5314 - auc: 0.7521 - val_loss: 0.8650 - val_accuracy: 0.4841 - val_auc: 0.7246\n",
            "\n",
            "Epoch 00003: val_auc improved from 0.70662 to 0.72463, saving model to sent-model-2\n"
          ],
          "name": "stdout"
        },
        {
          "output_type": "stream",
          "text": [
            "WARNING:absl:Found untraced functions such as restored_function_body, restored_function_body, restored_function_body, restored_function_body, restored_function_body while saving (showing 5 of 165). These functions will not be directly callable after loading.\n"
          ],
          "name": "stderr"
        },
        {
          "output_type": "stream",
          "text": [
            "INFO:tensorflow:Assets written to: sent-model-2/assets\n"
          ],
          "name": "stdout"
        },
        {
          "output_type": "stream",
          "text": [
            "INFO:tensorflow:Assets written to: sent-model-2/assets\n"
          ],
          "name": "stderr"
        },
        {
          "output_type": "stream",
          "text": [
            "Epoch 4/50\n",
            "252/252 [==============================] - 269s 1s/step - loss: 0.8485 - accuracy: 0.5298 - auc: 0.7675 - val_loss: 0.7829 - val_accuracy: 0.4650 - val_auc: 0.7409\n",
            "\n",
            "Epoch 00004: val_auc improved from 0.72463 to 0.74090, saving model to sent-model-2\n"
          ],
          "name": "stdout"
        },
        {
          "output_type": "stream",
          "text": [
            "WARNING:absl:Found untraced functions such as restored_function_body, restored_function_body, restored_function_body, restored_function_body, restored_function_body while saving (showing 5 of 165). These functions will not be directly callable after loading.\n"
          ],
          "name": "stderr"
        },
        {
          "output_type": "stream",
          "text": [
            "INFO:tensorflow:Assets written to: sent-model-2/assets\n"
          ],
          "name": "stdout"
        },
        {
          "output_type": "stream",
          "text": [
            "INFO:tensorflow:Assets written to: sent-model-2/assets\n"
          ],
          "name": "stderr"
        },
        {
          "output_type": "stream",
          "text": [
            "Epoch 5/50\n",
            "252/252 [==============================] - 270s 1s/step - loss: 0.7907 - accuracy: 0.5306 - auc: 0.7738 - val_loss: 0.7460 - val_accuracy: 0.4713 - val_auc: 0.7425\n",
            "\n",
            "Epoch 00005: val_auc improved from 0.74090 to 0.74248, saving model to sent-model-2\n"
          ],
          "name": "stdout"
        },
        {
          "output_type": "stream",
          "text": [
            "WARNING:absl:Found untraced functions such as restored_function_body, restored_function_body, restored_function_body, restored_function_body, restored_function_body while saving (showing 5 of 165). These functions will not be directly callable after loading.\n"
          ],
          "name": "stderr"
        },
        {
          "output_type": "stream",
          "text": [
            "INFO:tensorflow:Assets written to: sent-model-2/assets\n"
          ],
          "name": "stdout"
        },
        {
          "output_type": "stream",
          "text": [
            "INFO:tensorflow:Assets written to: sent-model-2/assets\n"
          ],
          "name": "stderr"
        },
        {
          "output_type": "stream",
          "text": [
            "Epoch 6/50\n",
            "252/252 [==============================] - 269s 1s/step - loss: 0.7863 - accuracy: 0.5346 - auc: 0.7658 - val_loss: 0.7365 - val_accuracy: 0.4713 - val_auc: 0.7384\n",
            "\n",
            "Epoch 00006: val_auc did not improve from 0.74248\n",
            "Epoch 7/50\n",
            "252/252 [==============================] - 269s 1s/step - loss: 0.7536 - accuracy: 0.5442 - auc: 0.7771 - val_loss: 0.7273 - val_accuracy: 0.4904 - val_auc: 0.7427\n",
            "\n",
            "Epoch 00007: val_auc improved from 0.74248 to 0.74274, saving model to sent-model-2\n"
          ],
          "name": "stdout"
        },
        {
          "output_type": "stream",
          "text": [
            "WARNING:absl:Found untraced functions such as restored_function_body, restored_function_body, restored_function_body, restored_function_body, restored_function_body while saving (showing 5 of 165). These functions will not be directly callable after loading.\n"
          ],
          "name": "stderr"
        },
        {
          "output_type": "stream",
          "text": [
            "INFO:tensorflow:Assets written to: sent-model-2/assets\n"
          ],
          "name": "stdout"
        },
        {
          "output_type": "stream",
          "text": [
            "INFO:tensorflow:Assets written to: sent-model-2/assets\n"
          ],
          "name": "stderr"
        },
        {
          "output_type": "stream",
          "text": [
            "Epoch 8/50\n",
            "252/252 [==============================] - 267s 1s/step - loss: 0.7517 - accuracy: 0.5346 - auc: 0.7757 - val_loss: 0.7187 - val_accuracy: 0.5032 - val_auc: 0.7569\n",
            "\n",
            "Epoch 00008: val_auc improved from 0.74274 to 0.75695, saving model to sent-model-2\n"
          ],
          "name": "stdout"
        },
        {
          "output_type": "stream",
          "text": [
            "WARNING:absl:Found untraced functions such as restored_function_body, restored_function_body, restored_function_body, restored_function_body, restored_function_body while saving (showing 5 of 165). These functions will not be directly callable after loading.\n"
          ],
          "name": "stderr"
        },
        {
          "output_type": "stream",
          "text": [
            "INFO:tensorflow:Assets written to: sent-model-2/assets\n"
          ],
          "name": "stdout"
        },
        {
          "output_type": "stream",
          "text": [
            "INFO:tensorflow:Assets written to: sent-model-2/assets\n"
          ],
          "name": "stderr"
        },
        {
          "output_type": "stream",
          "text": [
            "Epoch 9/50\n",
            "252/252 [==============================] - 269s 1s/step - loss: 0.7227 - accuracy: 0.5513 - auc: 0.7920 - val_loss: 0.7250 - val_accuracy: 0.5096 - val_auc: 0.7588\n",
            "\n",
            "Epoch 00009: val_auc improved from 0.75695 to 0.75882, saving model to sent-model-2\n"
          ],
          "name": "stdout"
        },
        {
          "output_type": "stream",
          "text": [
            "WARNING:absl:Found untraced functions such as restored_function_body, restored_function_body, restored_function_body, restored_function_body, restored_function_body while saving (showing 5 of 165). These functions will not be directly callable after loading.\n"
          ],
          "name": "stderr"
        },
        {
          "output_type": "stream",
          "text": [
            "INFO:tensorflow:Assets written to: sent-model-2/assets\n"
          ],
          "name": "stdout"
        },
        {
          "output_type": "stream",
          "text": [
            "INFO:tensorflow:Assets written to: sent-model-2/assets\n"
          ],
          "name": "stderr"
        },
        {
          "output_type": "stream",
          "text": [
            "Epoch 10/50\n",
            "252/252 [==============================] - 269s 1s/step - loss: 0.7095 - accuracy: 0.5927 - auc: 0.8098 - val_loss: 0.7523 - val_accuracy: 0.4713 - val_auc: 0.7165\n",
            "\n",
            "Epoch 00010: val_auc did not improve from 0.75882\n",
            "Epoch 11/50\n",
            "252/252 [==============================] - 270s 1s/step - loss: 0.7137 - accuracy: 0.5839 - auc: 0.8038 - val_loss: 0.7396 - val_accuracy: 0.4841 - val_auc: 0.7575\n",
            "\n",
            "Epoch 00011: val_auc did not improve from 0.75882\n",
            "Epoch 12/50\n",
            "252/252 [==============================] - 270s 1s/step - loss: 0.6740 - accuracy: 0.6309 - auc: 0.8375 - val_loss: 0.7894 - val_accuracy: 0.4968 - val_auc: 0.7342\n",
            "\n",
            "Epoch 00012: val_auc did not improve from 0.75882\n",
            "Epoch 13/50\n",
            "252/252 [==============================] - 270s 1s/step - loss: 0.6780 - accuracy: 0.6285 - auc: 0.8377 - val_loss: 0.7922 - val_accuracy: 0.5350 - val_auc: 0.7474\n",
            "\n",
            "Epoch 00013: val_auc did not improve from 0.75882\n"
          ],
          "name": "stdout"
        }
      ]
    },
    {
      "cell_type": "code",
      "metadata": {
        "colab": {
          "base_uri": "https://localhost:8080/"
        },
        "id": "YTEK1pNpcowT",
        "outputId": "c8060ec5-64a7-4ed3-bc7a-b4f1552d7ea2"
      },
      "source": [
        "history.history.keys()"
      ],
      "execution_count": null,
      "outputs": [
        {
          "output_type": "execute_result",
          "data": {
            "text/plain": [
              "dict_keys(['loss', 'accuracy', 'auc', 'val_loss', 'val_accuracy', 'val_auc'])"
            ]
          },
          "metadata": {
            "tags": []
          },
          "execution_count": 80
        }
      ]
    },
    {
      "cell_type": "code",
      "metadata": {
        "colab": {
          "base_uri": "https://localhost:8080/",
          "height": 295
        },
        "id": "wbiilKescowU",
        "outputId": "e919f2b3-84b6-4832-f13a-b3d365a12f7f"
      },
      "source": [
        "from matplotlib import pyplot as plt\n",
        "def plot_lines(history,train_key,val_key,title,y_tag):\n",
        "  plt.plot(history.history[train_key])\n",
        "  plt.plot(history.history[val_key])\n",
        "  plt.title(title)\n",
        "  plt.ylabel(y_tag)\n",
        "  plt.xlabel('epoch')\n",
        "  plt.legend(['train', 'val'], loc='upper left')\n",
        "  plt.show()\n",
        "\n",
        "plot_lines(history,'accuracy','val_accuracy','model accuracy','accuracy')"
      ],
      "execution_count": null,
      "outputs": [
        {
          "output_type": "display_data",
          "data": {
            "image/png": "[encoded data removed]",
            "text/plain": [
              "<Figure size 432x288 with 1 Axes>"
            ]
          },
          "metadata": {
            "tags": [],
            "needs_background": "light"
          }
        }
      ]
    },
    {
      "cell_type": "code",
      "metadata": {
        "colab": {
          "base_uri": "https://localhost:8080/",
          "height": 295
        },
        "id": "ZDSnBO5YcowV",
        "outputId": "0d647b89-379f-4ec9-b91d-1e705e5a191b"
      },
      "source": [
        "plot_lines(history,'auc','val_auc','model auc','auc')"
      ],
      "execution_count": null,
      "outputs": [
        {
          "output_type": "display_data",
          "data": {
            "image/png": "[encoded data removed]",
            "text/plain": [
              "<Figure size 432x288 with 1 Axes>"
            ]
          },
          "metadata": {
            "tags": [],
            "needs_background": "light"
          }
        }
      ]
    },
    {
      "cell_type": "code",
      "metadata": {
        "colab": {
          "base_uri": "https://localhost:8080/"
        },
        "id": "CzcwhOjXruhK",
        "outputId": "5bac7da5-359f-494c-c9b5-ad8d28e30fc4"
      },
      "source": [
        "evals = model.evaluate(X_test, y_test)"
      ],
      "execution_count": null,
      "outputs": [
        {
          "output_type": "stream",
          "text": [
            "5/5 [==============================] - 31s 6s/step - loss: 0.7574 - accuracy: 0.5316 - auc: 0.7554\n"
          ],
          "name": "stdout"
        }
      ]
    },
    {
      "cell_type": "code",
      "metadata": {
        "colab": {
          "base_uri": "https://localhost:8080/"
        },
        "id": "PgeST62-ruhU",
        "outputId": "5a5e77cb-c95f-4d96-e4a5-5f98cad61d5b"
      },
      "source": [
        "model.load_weights('sent-model-2')"
      ],
      "execution_count": null,
      "outputs": [
        {
          "output_type": "execute_result",
          "data": {
            "text/plain": [
              "<tensorflow.python.training.tracking.util.CheckpointLoadStatus at 0x7f3379228d50>"
            ]
          },
          "metadata": {
            "tags": []
          },
          "execution_count": 84
        }
      ]
    },
    {
      "cell_type": "code",
      "metadata": {
        "colab": {
          "base_uri": "https://localhost:8080/"
        },
        "id": "inRs4CbvruhW",
        "outputId": "226d2c60-9f09-4b72-c901-78cd81b80ee8"
      },
      "source": [
        "model.evaluate(X_test, y_test)"
      ],
      "execution_count": null,
      "outputs": [
        {
          "output_type": "stream",
          "text": [
            "5/5 [==============================] - 30s 6s/step - loss: 0.7004 - accuracy: 0.5253 - auc: 0.7774\n"
          ],
          "name": "stdout"
        },
        {
          "output_type": "execute_result",
          "data": {
            "text/plain": [
              "[0.7003724575042725, 0.5253164768218994, 0.7773894667625427]"
            ]
          },
          "metadata": {
            "tags": []
          },
          "execution_count": 85
        }
      ]
    }
  ]
}