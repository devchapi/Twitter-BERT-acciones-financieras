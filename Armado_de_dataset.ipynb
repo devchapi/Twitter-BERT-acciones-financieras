{
  "nbformat": 4,
  "nbformat_minor": 0,
  "metadata": {
    "colab": {
      "name": "Armado de dataset.ipynb",
      "provenance": [],
      "collapsed_sections": []
    },
    "kernelspec": {
      "name": "python3",
      "display_name": "Python 3"
    },
    "language_info": {
      "name": "python"
    }
  },
  "cells": [
    {
      "cell_type": "markdown",
      "metadata": {
        "id": "DZGKRouzdnSS"
      },
      "source": [
        "#Data Loading"
      ]
    },
    {
      "cell_type": "code",
      "metadata": {
        "id": "y1pn7zmgC-fA"
      },
      "source": [
        "import pandas as pd\n",
        "from datetime import datetime, timedelta\n",
        "import os"
      ],
      "execution_count": null,
      "outputs": []
    },
    {
      "cell_type": "code",
      "metadata": {
        "id": "Dyniu0wewRIo"
      },
      "source": [
        "#Carga de datos\n",
        "os.chdir(\"/content/drive/MyDrive/TAC Notebooks/TA Final/archive/\")"
      ],
      "execution_count": null,
      "outputs": []
    },
    {
      "cell_type": "code",
      "metadata": {
        "id": "5sGq1XvKVAbt"
      },
      "source": [
        "#TODO:\n",
        "#Dataframe: Concat week text | Current week open | Next week open | Absolute change | Relative change | Type of change (Positive, Negative)\n",
        "\n",
        "#carga dataset tweets\n",
        "used_cols = [\"body\",\"ticker_symbol\",\"current_monday\"]\n",
        "df_company = pd.read_csv(\"Company.csv\")\n",
        "df_company_tweet = pd.read_csv(\"Company_Tweet.csv\")\n",
        "df_tweet = pd.read_csv(\"Tweet.csv\")\n",
        "df_tweet.post_date = df_tweet.post_date.apply(datetime.fromtimestamp)\n",
        "#Juntamos los dataset\n",
        "df_tweets = pd.merge(df_tweet,df_company_tweet,on='tweet_id',how='left')\n",
        "#Finding corresponding monday to each tweet\n",
        "df_tweets[\"current_monday\"] = df_tweets.post_date.apply(lambda x:(x - timedelta(days = x.weekday())).replace(hour=0, minute=0, second=0))\n",
        "df_tweets = df_tweets[used_cols]\n",
        "#carga de datos acciones\n",
        "used_cols = [\"Date\",\"Open\"]\n",
        "df_stocks = None\n",
        "for ticker_symbol in df_company.ticker_symbol:\n",
        "  df_ticker_stocks = pd.read_csv(ticker_symbol+\".csv\")\n",
        "  df_ticker_stocks[\"ticker_symbol\"] = ticker_symbol\n",
        "  if df_stocks is None: df_stocks = df_ticker_stocks\n",
        "  else: df_stocks = pd.concat([df_stocks,df_ticker_stocks])\n",
        "df_stocks.Date = df_stocks.Date.apply(lambda x: datetime.strptime(x, '%Y-%m-%d'))"
      ],
      "execution_count": null,
      "outputs": []
    },
    {
      "cell_type": "code",
      "metadata": {
        "id": "l2bU-6gvJIma"
      },
      "source": [
        "#Procesamiento de data financiera\n",
        "df_stocks[\"next_monday\"] = df_stocks.Date.apply(lambda x:x + timedelta(days = 7))\n",
        "df_stocks = pd.merge(df_stocks,df_stocks.drop(columns=\"next_monday\"),left_on=[\"ticker_symbol\",\"next_monday\"],right_on=[\"ticker_symbol\",\"Date\"],how='left')\n",
        "df_stocks.dropna(inplace=True)\n",
        "df_stocks.drop(columns=\"Date_y\",inplace=True)\n",
        "df_stocks.rename(columns={'Date_x': 'Date'}, inplace=True)\n",
        "df_stocks[\"abs_dif\"] = df_stocks.Open_y - df_stocks.Open_x\n",
        "df_stocks[\"rel_dif\"] = (df_stocks.Open_y - df_stocks.Open_x) / df_stocks.Open_x\n",
        "df_stocks[\"type_dif\"] = df_stocks.abs_dif.apply(lambda x: 0 if x==0 else x/abs(x)).astype(\"int32\")\n",
        "df_stocks.rename(columns={\"Date\":\"current_monday\"},inplace=True)\n",
        "#Concatenamos tweets por dia y por empresa\n",
        "df_tweets = df_tweets.groupby([\"ticker_symbol\",\"current_monday\"]).body.apply('. '.join).reset_index()\n",
        "#Combinamos los dataset\n",
        "df = pd.merge(df_tweets,df_stocks,on=[\"current_monday\",\"ticker_symbol\"],how=\"left\")"
      ],
      "execution_count": null,
      "outputs": []
    },
    {
      "cell_type": "code",
      "metadata": {
        "colab": {
          "base_uri": "https://localhost:8080/",
          "height": 435
        },
        "id": "bCUODdqbUure",
        "outputId": "fd0f362a-611c-40df-9e41-52fc4f4c64f8"
      },
      "source": [
        "df.head()"
      ],
      "execution_count": null,
      "outputs": [
        {
          "output_type": "execute_result",
          "data": {
            "text/html": [
              "<div>\n",
              "<style scoped>\n",
              "    .dataframe tbody tr th:only-of-type {\n",
              "        vertical-align: middle;\n",
              "    }\n",
              "\n",
              "    .dataframe tbody tr th {\n",
              "        vertical-align: top;\n",
              "    }\n",
              "\n",
              "    .dataframe thead th {\n",
              "        text-align: right;\n",
              "    }\n",
              "</style>\n",
              "<table border=\"1\" class=\"dataframe\">\n",
              "  <thead>\n",
              "    <tr style=\"text-align: right;\">\n",
              "      <th></th>\n",
              "      <th>ticker_symbol</th>\n",
              "      <th>current_monday</th>\n",
              "      <th>body</th>\n",
              "      <th>Open_x</th>\n",
              "      <th>High_x</th>\n",
              "      <th>Low_x</th>\n",
              "      <th>Close_x</th>\n",
              "      <th>Adj Close_x</th>\n",
              "      <th>Volume_x</th>\n",
              "      <th>next_monday</th>\n",
              "      <th>Open_y</th>\n",
              "      <th>High_y</th>\n",
              "      <th>Low_y</th>\n",
              "      <th>Close_y</th>\n",
              "      <th>Adj Close_y</th>\n",
              "      <th>Volume_y</th>\n",
              "      <th>abs_dif</th>\n",
              "      <th>rel_dif</th>\n",
              "      <th>type_dif</th>\n",
              "    </tr>\n",
              "  </thead>\n",
              "  <tbody>\n",
              "    <tr>\n",
              "      <th>0</th>\n",
              "      <td>AAPL</td>\n",
              "      <td>2014-12-29</td>\n",
              "      <td>lx21 made $10,008  on $AAPL -Check it out! htt...</td>\n",
              "      <td>28.447500</td>\n",
              "      <td>28.692499</td>\n",
              "      <td>26.837500</td>\n",
              "      <td>27.332500</td>\n",
              "      <td>24.819241</td>\n",
              "      <td>608353600</td>\n",
              "      <td>2015-01-05</td>\n",
              "      <td>27.072500</td>\n",
              "      <td>28.312500</td>\n",
              "      <td>26.157499</td>\n",
              "      <td>28.002501</td>\n",
              "      <td>25.427635</td>\n",
              "      <td>1.133010e+09</td>\n",
              "      <td>-1.375000</td>\n",
              "      <td>-0.048335</td>\n",
              "      <td>-1</td>\n",
              "    </tr>\n",
              "    <tr>\n",
              "      <th>1</th>\n",
              "      <td>AAPL</td>\n",
              "      <td>2015-01-05</td>\n",
              "      <td>Stock Contest!! Pick $AAPL and WIN a FREE Tabl...</td>\n",
              "      <td>27.072500</td>\n",
              "      <td>28.312500</td>\n",
              "      <td>26.157499</td>\n",
              "      <td>28.002501</td>\n",
              "      <td>25.427635</td>\n",
              "      <td>1133010000</td>\n",
              "      <td>2015-01-12</td>\n",
              "      <td>28.150000</td>\n",
              "      <td>28.200001</td>\n",
              "      <td>26.299999</td>\n",
              "      <td>26.497499</td>\n",
              "      <td>24.061016</td>\n",
              "      <td>1.216906e+09</td>\n",
              "      <td>1.077500</td>\n",
              "      <td>0.039801</td>\n",
              "      <td>1</td>\n",
              "    </tr>\n",
              "    <tr>\n",
              "      <th>2</th>\n",
              "      <td>AAPL</td>\n",
              "      <td>2015-01-12</td>\n",
              "      <td>#TOPTICKERTWEETS $FB $GOOG $GOOGL $YHOO $SPY $...</td>\n",
              "      <td>28.150000</td>\n",
              "      <td>28.200001</td>\n",
              "      <td>26.299999</td>\n",
              "      <td>26.497499</td>\n",
              "      <td>24.061016</td>\n",
              "      <td>1216906400</td>\n",
              "      <td>2015-01-19</td>\n",
              "      <td>26.959999</td>\n",
              "      <td>28.437500</td>\n",
              "      <td>26.625000</td>\n",
              "      <td>28.245001</td>\n",
              "      <td>25.647839</td>\n",
              "      <td>7.949480e+08</td>\n",
              "      <td>-1.190001</td>\n",
              "      <td>-0.042274</td>\n",
              "      <td>-1</td>\n",
              "    </tr>\n",
              "    <tr>\n",
              "      <th>3</th>\n",
              "      <td>AAPL</td>\n",
              "      <td>2015-01-19</td>\n",
              "      <td>THE BINARY OPTIONS COMPETITION WIN $100,000 ht...</td>\n",
              "      <td>26.959999</td>\n",
              "      <td>28.437500</td>\n",
              "      <td>26.625000</td>\n",
              "      <td>28.245001</td>\n",
              "      <td>25.647839</td>\n",
              "      <td>794948000</td>\n",
              "      <td>2015-01-26</td>\n",
              "      <td>28.434999</td>\n",
              "      <td>30.000000</td>\n",
              "      <td>27.257500</td>\n",
              "      <td>29.290001</td>\n",
              "      <td>26.596750</td>\n",
              "      <td>1.863371e+09</td>\n",
              "      <td>1.475000</td>\n",
              "      <td>0.054711</td>\n",
              "      <td>1</td>\n",
              "    </tr>\n",
              "    <tr>\n",
              "      <th>4</th>\n",
              "      <td>AAPL</td>\n",
              "      <td>2015-01-26</td>\n",
              "      <td>If Apple reports it sold over 70M iPhones in t...</td>\n",
              "      <td>28.434999</td>\n",
              "      <td>30.000000</td>\n",
              "      <td>27.257500</td>\n",
              "      <td>29.290001</td>\n",
              "      <td>26.596750</td>\n",
              "      <td>1863370800</td>\n",
              "      <td>2015-02-02</td>\n",
              "      <td>29.512501</td>\n",
              "      <td>30.127501</td>\n",
              "      <td>29.020000</td>\n",
              "      <td>29.732500</td>\n",
              "      <td>26.998556</td>\n",
              "      <td>1.083029e+09</td>\n",
              "      <td>1.077502</td>\n",
              "      <td>0.037894</td>\n",
              "      <td>1</td>\n",
              "    </tr>\n",
              "  </tbody>\n",
              "</table>\n",
              "</div>"
            ],
            "text/plain": [
              "  ticker_symbol current_monday  ...   rel_dif  type_dif\n",
              "0          AAPL     2014-12-29  ... -0.048335        -1\n",
              "1          AAPL     2015-01-05  ...  0.039801         1\n",
              "2          AAPL     2015-01-12  ... -0.042274        -1\n",
              "3          AAPL     2015-01-19  ...  0.054711         1\n",
              "4          AAPL     2015-01-26  ...  0.037894         1\n",
              "\n",
              "[5 rows x 19 columns]"
            ]
          },
          "metadata": {
            "tags": []
          },
          "execution_count": 19
        }
      ]
    },
    {
      "cell_type": "code",
      "metadata": {
        "colab": {
          "base_uri": "https://localhost:8080/"
        },
        "id": "Oryr-V5ze_Nu",
        "outputId": "38f8646c-f961-42c1-806c-bb774bef3b8f"
      },
      "source": [
        "df.shape"
      ],
      "execution_count": null,
      "outputs": [
        {
          "output_type": "execute_result",
          "data": {
            "text/plain": [
              "(1572, 19)"
            ]
          },
          "metadata": {
            "tags": []
          },
          "execution_count": 21
        }
      ]
    },
    {
      "cell_type": "code",
      "metadata": {
        "id": "S1ImpBCleFUj"
      },
      "source": [
        "#Guardar dataset\n",
        "df.to_csv(\"concat_dataset.csv\",index=False)"
      ],
      "execution_count": null,
      "outputs": []
    },
    {
      "cell_type": "code",
      "metadata": {
        "colab": {
          "base_uri": "https://localhost:8080/",
          "height": 626
        },
        "id": "cUSDfuhMeTOq",
        "outputId": "988f4fd8-b483-464c-c5d7-db253f14fdff"
      },
      "source": [
        "#Dataset de registros no concatenados\n",
        "df.head()"
      ],
      "execution_count": null,
      "outputs": [
        {
          "output_type": "execute_result",
          "data": {
            "text/html": [
              "<div>\n",
              "<style scoped>\n",
              "    .dataframe tbody tr th:only-of-type {\n",
              "        vertical-align: middle;\n",
              "    }\n",
              "\n",
              "    .dataframe tbody tr th {\n",
              "        vertical-align: top;\n",
              "    }\n",
              "\n",
              "    .dataframe thead th {\n",
              "        text-align: right;\n",
              "    }\n",
              "</style>\n",
              "<table border=\"1\" class=\"dataframe\">\n",
              "  <thead>\n",
              "    <tr style=\"text-align: right;\">\n",
              "      <th></th>\n",
              "      <th>body</th>\n",
              "      <th>ticker_symbol</th>\n",
              "      <th>current_monday</th>\n",
              "      <th>Open_x</th>\n",
              "      <th>High_x</th>\n",
              "      <th>Low_x</th>\n",
              "      <th>Close_x</th>\n",
              "      <th>Adj Close_x</th>\n",
              "      <th>Volume_x</th>\n",
              "      <th>next_monday</th>\n",
              "      <th>Open_y</th>\n",
              "      <th>High_y</th>\n",
              "      <th>Low_y</th>\n",
              "      <th>Close_y</th>\n",
              "      <th>Adj Close_y</th>\n",
              "      <th>Volume_y</th>\n",
              "      <th>abs_dif</th>\n",
              "      <th>rel_dif</th>\n",
              "      <th>type_dif</th>\n",
              "    </tr>\n",
              "  </thead>\n",
              "  <tbody>\n",
              "    <tr>\n",
              "      <th>0</th>\n",
              "      <td>lx21 made $10,008  on $AAPL -Check it out! htt...</td>\n",
              "      <td>AAPL</td>\n",
              "      <td>2014-12-29</td>\n",
              "      <td>28.447500</td>\n",
              "      <td>28.692499</td>\n",
              "      <td>26.837500</td>\n",
              "      <td>27.332500</td>\n",
              "      <td>24.819241</td>\n",
              "      <td>608353600</td>\n",
              "      <td>2015-01-05</td>\n",
              "      <td>27.07250</td>\n",
              "      <td>28.312500</td>\n",
              "      <td>26.157499</td>\n",
              "      <td>28.002501</td>\n",
              "      <td>25.427635</td>\n",
              "      <td>1.133010e+09</td>\n",
              "      <td>-1.375000</td>\n",
              "      <td>-0.048335</td>\n",
              "      <td>-1</td>\n",
              "    </tr>\n",
              "    <tr>\n",
              "      <th>1</th>\n",
              "      <td>Insanity of today weirdo massive selling. $aap...</td>\n",
              "      <td>AAPL</td>\n",
              "      <td>2014-12-29</td>\n",
              "      <td>28.447500</td>\n",
              "      <td>28.692499</td>\n",
              "      <td>26.837500</td>\n",
              "      <td>27.332500</td>\n",
              "      <td>24.819241</td>\n",
              "      <td>608353600</td>\n",
              "      <td>2015-01-05</td>\n",
              "      <td>27.07250</td>\n",
              "      <td>28.312500</td>\n",
              "      <td>26.157499</td>\n",
              "      <td>28.002501</td>\n",
              "      <td>25.427635</td>\n",
              "      <td>1.133010e+09</td>\n",
              "      <td>-1.375000</td>\n",
              "      <td>-0.048335</td>\n",
              "      <td>-1</td>\n",
              "    </tr>\n",
              "    <tr>\n",
              "      <th>2</th>\n",
              "      <td>S&amp;P100 #Stocks Performance $HD $LOW $SBUX $TGT...</td>\n",
              "      <td>AMZN</td>\n",
              "      <td>2014-12-29</td>\n",
              "      <td>307.850006</td>\n",
              "      <td>314.750000</td>\n",
              "      <td>306.579987</td>\n",
              "      <td>308.519989</td>\n",
              "      <td>308.519989</td>\n",
              "      <td>9933200</td>\n",
              "      <td>2015-01-05</td>\n",
              "      <td>307.01001</td>\n",
              "      <td>308.380005</td>\n",
              "      <td>292.380005</td>\n",
              "      <td>296.929993</td>\n",
              "      <td>296.929993</td>\n",
              "      <td>1.461430e+07</td>\n",
              "      <td>-0.839996</td>\n",
              "      <td>-0.002729</td>\n",
              "      <td>-1</td>\n",
              "    </tr>\n",
              "    <tr>\n",
              "      <th>3</th>\n",
              "      <td>$GM $TSLA: Volkswagen Pushes 2014 Record Recal...</td>\n",
              "      <td>TSLA</td>\n",
              "      <td>2014-12-29</td>\n",
              "      <td>45.380001</td>\n",
              "      <td>45.582001</td>\n",
              "      <td>42.652000</td>\n",
              "      <td>43.862000</td>\n",
              "      <td>43.862000</td>\n",
              "      <td>63838000</td>\n",
              "      <td>2015-01-05</td>\n",
              "      <td>42.91000</td>\n",
              "      <td>43.299999</td>\n",
              "      <td>40.841999</td>\n",
              "      <td>41.332001</td>\n",
              "      <td>41.332001</td>\n",
              "      <td>1.135480e+08</td>\n",
              "      <td>-2.470001</td>\n",
              "      <td>-0.054429</td>\n",
              "      <td>-1</td>\n",
              "    </tr>\n",
              "    <tr>\n",
              "      <th>4</th>\n",
              "      <td>Swing Trading: Up To 8.91% Return In 14 Days h...</td>\n",
              "      <td>AAPL</td>\n",
              "      <td>2014-12-29</td>\n",
              "      <td>28.447500</td>\n",
              "      <td>28.692499</td>\n",
              "      <td>26.837500</td>\n",
              "      <td>27.332500</td>\n",
              "      <td>24.819241</td>\n",
              "      <td>608353600</td>\n",
              "      <td>2015-01-05</td>\n",
              "      <td>27.07250</td>\n",
              "      <td>28.312500</td>\n",
              "      <td>26.157499</td>\n",
              "      <td>28.002501</td>\n",
              "      <td>25.427635</td>\n",
              "      <td>1.133010e+09</td>\n",
              "      <td>-1.375000</td>\n",
              "      <td>-0.048335</td>\n",
              "      <td>-1</td>\n",
              "    </tr>\n",
              "  </tbody>\n",
              "</table>\n",
              "</div>"
            ],
            "text/plain": [
              "                                                body  ... type_dif\n",
              "0  lx21 made $10,008  on $AAPL -Check it out! htt...  ...       -1\n",
              "1  Insanity of today weirdo massive selling. $aap...  ...       -1\n",
              "2  S&P100 #Stocks Performance $HD $LOW $SBUX $TGT...  ...       -1\n",
              "3  $GM $TSLA: Volkswagen Pushes 2014 Record Recal...  ...       -1\n",
              "4  Swing Trading: Up To 8.91% Return In 14 Days h...  ...       -1\n",
              "\n",
              "[5 rows x 19 columns]"
            ]
          },
          "metadata": {
            "tags": []
          },
          "execution_count": 25
        }
      ]
    },
    {
      "cell_type": "code",
      "metadata": {
        "colab": {
          "base_uri": "https://localhost:8080/"
        },
        "id": "CcVnWwg9e0lz",
        "outputId": "50d20b2a-9e3f-4147-a1c3-0858644692e1"
      },
      "source": [
        "df.shape"
      ],
      "execution_count": null,
      "outputs": [
        {
          "output_type": "execute_result",
          "data": {
            "text/plain": [
              "(4336445, 19)"
            ]
          },
          "metadata": {
            "tags": []
          },
          "execution_count": 26
        }
      ]
    },
    {
      "cell_type": "code",
      "metadata": {
        "id": "qcF6obKoe24p"
      },
      "source": [
        "#Guardamos dataset sin concatenar tweets\n",
        "df.to_csv(\"non_concat_dataset.csv\",index=False)"
      ],
      "execution_count": null,
      "outputs": []
    },
    {
      "cell_type": "markdown",
      "metadata": {
        "id": "4hpkjab_dqpc"
      },
      "source": [
        "#Data Preprocessing"
      ]
    },
    {
      "cell_type": "code",
      "metadata": {
        "colab": {
          "base_uri": "https://localhost:8080/"
        },
        "id": "5jAwFLxmcCVw",
        "outputId": "5442eeef-b59a-48ca-dc4e-c08df9cf2974"
      },
      "source": [
        "pip install -q tf-models-official==2.4.0"
      ],
      "execution_count": null,
      "outputs": [
        {
          "output_type": "stream",
          "text": [
            "\u001b[K     |████████████████████████████████| 1.1MB 5.1MB/s \n",
            "\u001b[K     |████████████████████████████████| 38.2MB 113kB/s \n",
            "\u001b[K     |████████████████████████████████| 174kB 47.1MB/s \n",
            "\u001b[K     |████████████████████████████████| 358kB 45.3MB/s \n",
            "\u001b[K     |████████████████████████████████| 1.2MB 38.9MB/s \n",
            "\u001b[K     |████████████████████████████████| 645kB 32.5MB/s \n",
            "\u001b[K     |████████████████████████████████| 686kB 35.4MB/s \n",
            "\u001b[K     |████████████████████████████████| 102kB 9.6MB/s \n",
            "\u001b[K     |████████████████████████████████| 51kB 6.3MB/s \n",
            "\u001b[?25h  Building wheel for py-cpuinfo (setup.py) ... \u001b[?25l\u001b[?25hdone\n",
            "  Building wheel for seqeval (setup.py) ... \u001b[?25l\u001b[?25hdone\n"
          ],
          "name": "stdout"
        }
      ]
    },
    {
      "cell_type": "code",
      "metadata": {
        "id": "tdS7zkHDdCKx"
      },
      "source": [
        "import numpy as np\n",
        "import matplotlib.pyplot as plt\n",
        "\n",
        "import tensorflow as tf\n",
        "\n",
        "import tensorflow_hub as hub\n",
        "import tensorflow_datasets as tfds\n",
        "tfds.disable_progress_bar()\n",
        "\n",
        "from official.modeling import tf_utils\n",
        "from official import nlp\n",
        "from official.nlp import bert\n",
        "\n",
        "#submodulos requeridos para prueba\n",
        "import official.nlp.optimization\n",
        "import official.nlp.bert.bert_models\n",
        "import official.nlp.bert.configs\n",
        "import official.nlp.bert.run_classifier\n",
        "import official.nlp.bert.tokenization\n",
        "import official.nlp.data.classifier_data_lib\n",
        "import official.nlp.modeling.losses\n",
        "import official.nlp.modeling.models\n",
        "import official.nlp.modeling.networks"
      ],
      "execution_count": null,
      "outputs": []
    },
    {
      "cell_type": "code",
      "metadata": {
        "colab": {
          "base_uri": "https://localhost:8080/"
        },
        "id": "3fbf2vA7dE9L",
        "outputId": "a115d83c-7397-4fce-8b42-a514c77c2c57"
      },
      "source": [
        "gs_folder_bert = \"gs://cloud-tpu-checkpoints/bert/v3/uncased_L-12_H-768_A-12\"\n",
        "tf.io.gfile.listdir(gs_folder_bert)"
      ],
      "execution_count": null,
      "outputs": [
        {
          "output_type": "execute_result",
          "data": {
            "text/plain": [
              "['bert_config.json',\n",
              " 'bert_model.ckpt.data-00000-of-00001',\n",
              " 'bert_model.ckpt.index',\n",
              " 'vocab.txt']"
            ]
          },
          "metadata": {
            "tags": []
          },
          "execution_count": 8
        }
      ]
    },
    {
      "cell_type": "code",
      "metadata": {
        "id": "qJWxbcOXdavc"
      },
      "source": [
        "glue, info = tfds.load('glue/mrpc', with_info=True,\n",
        "                       batch_size=-1)"
      ],
      "execution_count": null,
      "outputs": []
    }
  ]
}