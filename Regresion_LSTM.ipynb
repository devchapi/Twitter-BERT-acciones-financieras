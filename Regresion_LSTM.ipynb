{
  "nbformat": 4,
  "nbformat_minor": 0,
  "metadata": {
    "colab": {
      "name": "Regresion-LSTM.ipynb",
      "provenance": [],
      "collapsed_sections": []
    },
    "kernelspec": {
      "name": "python3",
      "display_name": "Python 3"
    },
    "language_info": {
      "name": "python"
    }
  },
  "cells": [
    {
      "cell_type": "code",
      "metadata": {
        "id": "7pQGVyqPAYc9"
      },
      "source": [
        "import seaborn as sns\n",
        "import matplotlib as plt\n",
        "\n",
        "%matplotlib inline\n",
        "plt.style.use('ggplot')\n",
        "\n",
        "import numpy as np\n",
        "import os\n",
        "import re\n",
        "import random\n",
        "import numpy as np \n",
        "import pandas as pd \n",
        "\n",
        "import nltk\n",
        "import string\n",
        "from bs4 import BeautifulSoup\n",
        "from nltk.corpus import stopwords\n",
        "\n",
        "# BERT y librerias Deep Learning \n",
        "import tensorflow_hub as hub\n",
        "import tensorflow as tf\n",
        "from keras import layers\n",
        "from keras.callbacks import ModelCheckpoint,EarlyStopping\n",
        "from keras.preprocessing.sequence import pad_sequences\n",
        "import tensorflow_datasets as tfds\n",
        "\n",
        "import warnings\n",
        "warnings.filterwarnings(\"ignore\")"
      ],
      "execution_count": null,
      "outputs": []
    },
    {
      "cell_type": "code",
      "metadata": {
        "colab": {
          "base_uri": "https://localhost:8080/"
        },
        "id": "WWsyatDGAs5W",
        "outputId": "e7ff2d78-ad05-4404-da4a-0dc6cddc00df"
      },
      "source": [
        "#montamos drive\n",
        "from google.colab import drive\n",
        "drive.mount(\"/content/drive\")"
      ],
      "execution_count": null,
      "outputs": [
        {
          "output_type": "stream",
          "text": [
            "Drive already mounted at /content/drive; to attempt to forcibly remount, call drive.mount(\"/content/drive\", force_remount=True).\n"
          ],
          "name": "stdout"
        }
      ]
    },
    {
      "cell_type": "code",
      "metadata": {
        "colab": {
          "base_uri": "https://localhost:8080/",
          "height": 218
        },
        "id": "lfKXl2ekA03m",
        "outputId": "2e73a25c-bf82-4c3e-df25-ec143a897cea"
      },
      "source": [
        "df_ini = pd.read_csv('/content/drive/MyDrive/TAC Notebooks/TA Final/archive/concat_dataset.csv')\n",
        "df_ini.sample(3)"
      ],
      "execution_count": null,
      "outputs": [
        {
          "output_type": "execute_result",
          "data": {
            "text/html": [
              "<div>\n",
              "<style scoped>\n",
              "    .dataframe tbody tr th:only-of-type {\n",
              "        vertical-align: middle;\n",
              "    }\n",
              "\n",
              "    .dataframe tbody tr th {\n",
              "        vertical-align: top;\n",
              "    }\n",
              "\n",
              "    .dataframe thead th {\n",
              "        text-align: right;\n",
              "    }\n",
              "</style>\n",
              "<table border=\"1\" class=\"dataframe\">\n",
              "  <thead>\n",
              "    <tr style=\"text-align: right;\">\n",
              "      <th></th>\n",
              "      <th>ticker_symbol</th>\n",
              "      <th>current_monday</th>\n",
              "      <th>body</th>\n",
              "      <th>Open_x</th>\n",
              "      <th>High_x</th>\n",
              "      <th>Low_x</th>\n",
              "      <th>Close_x</th>\n",
              "      <th>Adj Close_x</th>\n",
              "      <th>Volume_x</th>\n",
              "      <th>next_monday</th>\n",
              "      <th>Open_y</th>\n",
              "      <th>High_y</th>\n",
              "      <th>Low_y</th>\n",
              "      <th>Close_y</th>\n",
              "      <th>Adj Close_y</th>\n",
              "      <th>Volume_y</th>\n",
              "      <th>abs_dif</th>\n",
              "      <th>rel_dif</th>\n",
              "      <th>type_dif</th>\n",
              "    </tr>\n",
              "  </thead>\n",
              "  <tbody>\n",
              "    <tr>\n",
              "      <th>1312</th>\n",
              "      <td>TSLA</td>\n",
              "      <td>2015-01-12</td>\n",
              "      <td>$TSLA - TSLA May have more room to fall-  - ht...</td>\n",
              "      <td>40.610001</td>\n",
              "      <td>41.521999</td>\n",
              "      <td>37.000000</td>\n",
              "      <td>38.613998</td>\n",
              "      <td>38.613998</td>\n",
              "      <td>153996000</td>\n",
              "      <td>2015-01-19</td>\n",
              "      <td>38.773998</td>\n",
              "      <td>40.700001</td>\n",
              "      <td>37.408001</td>\n",
              "      <td>40.257999</td>\n",
              "      <td>40.257999</td>\n",
              "      <td>81058500.0</td>\n",
              "      <td>-1.836003</td>\n",
              "      <td>-0.045211</td>\n",
              "      <td>-1</td>\n",
              "    </tr>\n",
              "    <tr>\n",
              "      <th>1110</th>\n",
              "      <td>MSFT</td>\n",
              "      <td>2016-03-07</td>\n",
              "      <td>Windows 10 updates for Windows 8.1 phones to b...</td>\n",
              "      <td>51.560001</td>\n",
              "      <td>53.070000</td>\n",
              "      <td>50.580002</td>\n",
              "      <td>53.070000</td>\n",
              "      <td>48.551579</td>\n",
              "      <td>171158000</td>\n",
              "      <td>2016-03-14</td>\n",
              "      <td>52.709999</td>\n",
              "      <td>55.000000</td>\n",
              "      <td>52.630001</td>\n",
              "      <td>53.490002</td>\n",
              "      <td>48.935818</td>\n",
              "      <td>172729500.0</td>\n",
              "      <td>1.149998</td>\n",
              "      <td>0.022304</td>\n",
              "      <td>1</td>\n",
              "    </tr>\n",
              "    <tr>\n",
              "      <th>1293</th>\n",
              "      <td>MSFT</td>\n",
              "      <td>2019-09-09</td>\n",
              "      <td>RT stock_family: https://investors.com/market-...</td>\n",
              "      <td>139.589996</td>\n",
              "      <td>139.750000</td>\n",
              "      <td>134.509995</td>\n",
              "      <td>137.320007</td>\n",
              "      <td>134.797302</td>\n",
              "      <td>129776500</td>\n",
              "      <td>2019-09-16</td>\n",
              "      <td>135.830002</td>\n",
              "      <td>142.369995</td>\n",
              "      <td>135.660004</td>\n",
              "      <td>139.440002</td>\n",
              "      <td>136.878342</td>\n",
              "      <td>133467100.0</td>\n",
              "      <td>-3.759994</td>\n",
              "      <td>-0.026936</td>\n",
              "      <td>-1</td>\n",
              "    </tr>\n",
              "  </tbody>\n",
              "</table>\n",
              "</div>"
            ],
            "text/plain": [
              "     ticker_symbol current_monday  ...   rel_dif  type_dif\n",
              "1312          TSLA     2015-01-12  ... -0.045211        -1\n",
              "1110          MSFT     2016-03-07  ...  0.022304         1\n",
              "1293          MSFT     2019-09-09  ... -0.026936        -1\n",
              "\n",
              "[3 rows x 19 columns]"
            ]
          },
          "metadata": {
            "tags": []
          },
          "execution_count": 152
        }
      ]
    },
    {
      "cell_type": "code",
      "metadata": {
        "colab": {
          "base_uri": "https://localhost:8080/",
          "height": 267
        },
        "id": "6tKvevfiBLpC",
        "outputId": "3327057a-8365-49fb-a3de-a2af34779b14"
      },
      "source": [
        "df = df_ini[df_ini[\"ticker_symbol\"]==\"GOOG\"]\n",
        "df.head(3)"
      ],
      "execution_count": null,
      "outputs": [
        {
          "output_type": "execute_result",
          "data": {
            "text/html": [
              "<div>\n",
              "<style scoped>\n",
              "    .dataframe tbody tr th:only-of-type {\n",
              "        vertical-align: middle;\n",
              "    }\n",
              "\n",
              "    .dataframe tbody tr th {\n",
              "        vertical-align: top;\n",
              "    }\n",
              "\n",
              "    .dataframe thead th {\n",
              "        text-align: right;\n",
              "    }\n",
              "</style>\n",
              "<table border=\"1\" class=\"dataframe\">\n",
              "  <thead>\n",
              "    <tr style=\"text-align: right;\">\n",
              "      <th></th>\n",
              "      <th>ticker_symbol</th>\n",
              "      <th>current_monday</th>\n",
              "      <th>body</th>\n",
              "      <th>Open_x</th>\n",
              "      <th>High_x</th>\n",
              "      <th>Low_x</th>\n",
              "      <th>Close_x</th>\n",
              "      <th>Adj Close_x</th>\n",
              "      <th>Volume_x</th>\n",
              "      <th>next_monday</th>\n",
              "      <th>Open_y</th>\n",
              "      <th>High_y</th>\n",
              "      <th>Low_y</th>\n",
              "      <th>Close_y</th>\n",
              "      <th>Adj Close_y</th>\n",
              "      <th>Volume_y</th>\n",
              "      <th>abs_dif</th>\n",
              "      <th>rel_dif</th>\n",
              "      <th>type_dif</th>\n",
              "    </tr>\n",
              "  </thead>\n",
              "  <tbody>\n",
              "    <tr>\n",
              "      <th>524</th>\n",
              "      <td>GOOG</td>\n",
              "      <td>2014-12-29</td>\n",
              "      <td>Top 10 searched #stocks of #2014 $AAPL $FB $BA...</td>\n",
              "      <td>530.732849</td>\n",
              "      <td>534.013855</td>\n",
              "      <td>522.665039</td>\n",
              "      <td>523.373108</td>\n",
              "      <td>523.373108</td>\n",
              "      <td>5970647</td>\n",
              "      <td>2015-01-05</td>\n",
              "      <td>521.827332</td>\n",
              "      <td>522.894409</td>\n",
              "      <td>489.655640</td>\n",
              "      <td>494.811493</td>\n",
              "      <td>494.811493</td>\n",
              "      <td>12449787.0</td>\n",
              "      <td>-8.905517</td>\n",
              "      <td>-0.016780</td>\n",
              "      <td>-1</td>\n",
              "    </tr>\n",
              "    <tr>\n",
              "      <th>525</th>\n",
              "      <td>GOOG</td>\n",
              "      <td>2015-01-05</td>\n",
              "      <td>Free 5€ in account balance for first 100.000 m...</td>\n",
              "      <td>521.827332</td>\n",
              "      <td>522.894409</td>\n",
              "      <td>489.655640</td>\n",
              "      <td>494.811493</td>\n",
              "      <td>494.811493</td>\n",
              "      <td>12449787</td>\n",
              "      <td>2015-01-12</td>\n",
              "      <td>493.584869</td>\n",
              "      <td>506.798584</td>\n",
              "      <td>486.225067</td>\n",
              "      <td>506.688873</td>\n",
              "      <td>506.688873</td>\n",
              "      <td>11947111.0</td>\n",
              "      <td>-28.242463</td>\n",
              "      <td>-0.054122</td>\n",
              "      <td>-1</td>\n",
              "    </tr>\n",
              "    <tr>\n",
              "      <th>526</th>\n",
              "      <td>GOOG</td>\n",
              "      <td>2015-01-12</td>\n",
              "      <td>#TOPTICKERTWEETS $FB $GOOG $GOOGL $YHOO $SPY $...</td>\n",
              "      <td>493.584869</td>\n",
              "      <td>506.798584</td>\n",
              "      <td>486.225067</td>\n",
              "      <td>506.688873</td>\n",
              "      <td>506.688873</td>\n",
              "      <td>11947111</td>\n",
              "      <td>2015-01-19</td>\n",
              "      <td>509.600891</td>\n",
              "      <td>540.685547</td>\n",
              "      <td>504.630524</td>\n",
              "      <td>538.471619</td>\n",
              "      <td>538.471619</td>\n",
              "      <td>9459399.0</td>\n",
              "      <td>16.016022</td>\n",
              "      <td>0.032448</td>\n",
              "      <td>1</td>\n",
              "    </tr>\n",
              "  </tbody>\n",
              "</table>\n",
              "</div>"
            ],
            "text/plain": [
              "    ticker_symbol current_monday  ...   rel_dif  type_dif\n",
              "524          GOOG     2014-12-29  ... -0.016780        -1\n",
              "525          GOOG     2015-01-05  ... -0.054122        -1\n",
              "526          GOOG     2015-01-12  ...  0.032448         1\n",
              "\n",
              "[3 rows x 19 columns]"
            ]
          },
          "metadata": {
            "tags": []
          },
          "execution_count": 153
        }
      ]
    },
    {
      "cell_type": "code",
      "metadata": {
        "colab": {
          "base_uri": "https://localhost:8080/",
          "height": 283
        },
        "id": "IPXzJLI9BXgl",
        "outputId": "197bd6e4-03a4-4450-9826-87e5bca26188"
      },
      "source": [
        "#grafico de la evolucion de los precios de acciones en Google\n",
        "import matplotlib.pyplot as plt\n",
        "plt.plot(df[\"Close_x\"])"
      ],
      "execution_count": null,
      "outputs": [
        {
          "output_type": "execute_result",
          "data": {
            "text/plain": [
              "[<matplotlib.lines.Line2D at 0x7ff68715c110>]"
            ]
          },
          "metadata": {
            "tags": []
          },
          "execution_count": 154
        },
        {
          "output_type": "display_data",
          "data": {
            "image/png": "[encoded data removed]",
            "text/plain": [
              "<Figure size 432x288 with 1 Axes>"
            ]
          },
          "metadata": {
            "tags": []
          }
        }
      ]
    },
    {
      "cell_type": "code",
      "metadata": {
        "id": "V4HnbjybB1o-"
      },
      "source": [
        "df1 = df.reset_index()[\"Close_x\"]"
      ],
      "execution_count": null,
      "outputs": []
    },
    {
      "cell_type": "code",
      "metadata": {
        "colab": {
          "base_uri": "https://localhost:8080/"
        },
        "id": "r0cCMnA4MsTy",
        "outputId": "2f8fdb72-7ada-4925-b51a-32851aa8dd27"
      },
      "source": [
        "df1"
      ],
      "execution_count": null,
      "outputs": [
        {
          "output_type": "execute_result",
          "data": {
            "text/plain": [
              "0       523.373108\n",
              "1       494.811493\n",
              "2       506.688873\n",
              "3       538.471619\n",
              "4       533.056519\n",
              "          ...     \n",
              "257    1340.619995\n",
              "258    1347.829956\n",
              "259    1349.589966\n",
              "260    1351.890015\n",
              "261    1360.660034\n",
              "Name: Close_x, Length: 262, dtype: float64"
            ]
          },
          "metadata": {
            "tags": []
          },
          "execution_count": 156
        }
      ]
    },
    {
      "cell_type": "code",
      "metadata": {
        "id": "rJBvN6AhCE8x"
      },
      "source": [
        "#LSTM funciona mejor en datos con scaler\n",
        "from sklearn.preprocessing import MinMaxScaler\n",
        "scaler=MinMaxScaler(feature_range=(0,1))\n",
        "df1=scaler.fit_transform(np.array(df1).reshape(-1,1))"
      ],
      "execution_count": null,
      "outputs": []
    },
    {
      "cell_type": "code",
      "metadata": {
        "colab": {
          "base_uri": "https://localhost:8080/"
        },
        "id": "5QjbtvIgIKk4",
        "outputId": "413d044a-c761-48e2-caed-0455433adada"
      },
      "source": [
        "df1"
      ],
      "execution_count": null,
      "outputs": [
        {
          "output_type": "execute_result",
          "data": {
            "text/plain": [
              "array([[0.03298685],\n",
              "       [0.        ],\n",
              "       [0.01371762],\n",
              "       [0.05042467],\n",
              "       [0.04417057],\n",
              "       [0.04011631],\n",
              "       [0.06085977],\n",
              "       [0.0492729 ],\n",
              "       [0.07167489],\n",
              "       [0.08236912],\n",
              "       [0.05891328],\n",
              "       [0.07393239],\n",
              "       [0.0600881 ],\n",
              "       [0.04533383],\n",
              "       [0.05049375],\n",
              "       [0.03211148],\n",
              "       [0.07934573],\n",
              "       [0.04976451],\n",
              "       [0.05013403],\n",
              "       [0.04508697],\n",
              "       [0.05231688],\n",
              "       [0.04307739],\n",
              "       [0.04448645],\n",
              "       [0.04333151],\n",
              "       [0.04836701],\n",
              "       [0.04259233],\n",
              "       [0.03301794],\n",
              "       [0.04079064],\n",
              "       [0.20571554],\n",
              "       [0.14869634],\n",
              "       [0.15106394],\n",
              "       [0.16225528],\n",
              "       [0.187456  ],\n",
              "       [0.13589962],\n",
              "       [0.15657301],\n",
              "       [0.12229451],\n",
              "       [0.15124877],\n",
              "       [0.15526793],\n",
              "       [0.13531059],\n",
              "       [0.15256534],\n",
              "       [0.1718528 ],\n",
              "       [0.19332309],\n",
              "       [0.23928955],\n",
              "       [0.24946454],\n",
              "       [0.27597034],\n",
              "       [0.2566136 ],\n",
              "       [0.30234905],\n",
              "       [0.29502679],\n",
              "       [0.31414098],\n",
              "       [0.28187205],\n",
              "       [0.28238022],\n",
              "       [0.29287863],\n",
              "       [0.30498234],\n",
              "       [0.25369157],\n",
              "       [0.23056979],\n",
              "       [0.26614182],\n",
              "       [0.28658421],\n",
              "       [0.21800408],\n",
              "       [0.21665282],\n",
              "       [0.23803064],\n",
              "       [0.24283521],\n",
              "       [0.24955695],\n",
              "       [0.26795508],\n",
              "       [0.28040526],\n",
              "       [0.27774892],\n",
              "       [0.29462252],\n",
              "       [0.28219546],\n",
              "       [0.30512092],\n",
              "       [0.25865786],\n",
              "       [0.22890668],\n",
              "       [0.24982256],\n",
              "       [0.24948766],\n",
              "       [0.24822875],\n",
              "       [0.27469987],\n",
              "       [0.26278099],\n",
              "       [0.25939696],\n",
              "       [0.22741677],\n",
              "       [0.20836032],\n",
              "       [0.2360673 ],\n",
              "       [0.24348197],\n",
              "       [0.25990514],\n",
              "       [0.28634165],\n",
              "       [0.31642773],\n",
              "       [0.33193851],\n",
              "       [0.33309345],\n",
              "       [0.32408496],\n",
              "       [0.31729393],\n",
              "       [0.31951146],\n",
              "       [0.30588315],\n",
              "       [0.3165317 ],\n",
              "       [0.33734368],\n",
              "       [0.32624469],\n",
              "       [0.32369232],\n",
              "       [0.32767687],\n",
              "       [0.3517457 ],\n",
              "       [0.34712596],\n",
              "       [0.30860886],\n",
              "       [0.29936936],\n",
              "       [0.3068995 ],\n",
              "       [0.30821615],\n",
              "       [0.29530396],\n",
              "       [0.34010392],\n",
              "       [0.34184789],\n",
              "       [0.34081998],\n",
              "       [0.31992722],\n",
              "       [0.3595762 ],\n",
              "       [0.36157422],\n",
              "       [0.35827112],\n",
              "       [0.37939488],\n",
              "       [0.35419416],\n",
              "       [0.36826128],\n",
              "       [0.38489239],\n",
              "       [0.38555071],\n",
              "       [0.38605889],\n",
              "       [0.40242432],\n",
              "       [0.4126686 ],\n",
              "       [0.36913904],\n",
              "       [0.38661323],\n",
              "       [0.38096558],\n",
              "       [0.37968362],\n",
              "       [0.40235502],\n",
              "       [0.4748504 ],\n",
              "       [0.49930039],\n",
              "       [0.50517897],\n",
              "       [0.50724636],\n",
              "       [0.55051023],\n",
              "       [0.55528012],\n",
              "       [0.52551746],\n",
              "       [0.51391036],\n",
              "       [0.54371927],\n",
              "       [0.47804953],\n",
              "       [0.48943726],\n",
              "       [0.53263183],\n",
              "       [0.5521849 ],\n",
              "       [0.5159315 ],\n",
              "       [0.500259  ],\n",
              "       [0.48458651],\n",
              "       [0.48029011],\n",
              "       [0.48631891],\n",
              "       [0.51109231],\n",
              "       [0.49857277],\n",
              "       [0.49140059],\n",
              "       [0.50091733],\n",
              "       [0.53623523],\n",
              "       [0.55907991],\n",
              "       [0.57154165],\n",
              "       [0.56983236],\n",
              "       [0.60571625],\n",
              "       [0.62097291],\n",
              "       [0.6158796 ],\n",
              "       [0.60550836],\n",
              "       [0.63036255],\n",
              "       [0.59520628],\n",
              "       [0.62625105],\n",
              "       [0.6575959 ],\n",
              "       [0.65289537],\n",
              "       [0.63704967],\n",
              "       [0.70152972],\n",
              "       [0.72466313],\n",
              "       [0.74227591],\n",
              "       [0.78654458],\n",
              "       [0.71269801],\n",
              "       [0.62709413],\n",
              "       [0.69294863],\n",
              "       [0.72989503],\n",
              "       [0.67460823],\n",
              "       [0.76829666],\n",
              "       [0.74022009],\n",
              "       [0.60837258],\n",
              "       [0.62017607],\n",
              "       [0.59159132],\n",
              "       [0.61726561],\n",
              "       [0.66772471],\n",
              "       [0.61816649],\n",
              "       [0.63914004],\n",
              "       [0.69694466],\n",
              "       [0.66010216],\n",
              "       [0.67084312],\n",
              "       [0.7214755 ],\n",
              "       [0.72305775],\n",
              "       [0.75931123],\n",
              "       [0.76303009],\n",
              "       [0.71702902],\n",
              "       [0.74534808],\n",
              "       [0.80153563],\n",
              "       [0.79701993],\n",
              "       [0.85891293],\n",
              "       [0.84183138],\n",
              "       [0.85788502],\n",
              "       [0.81555657],\n",
              "       [0.83829734],\n",
              "       [0.8354561 ],\n",
              "       [0.77382871],\n",
              "       [0.78272181],\n",
              "       [0.77528395],\n",
              "       [0.80690611],\n",
              "       [0.76518981],\n",
              "       [0.71059595],\n",
              "       [0.69486572],\n",
              "       [0.66600387],\n",
              "       [0.65020442],\n",
              "       [0.65985967],\n",
              "       [0.65447763],\n",
              "       [0.61104048],\n",
              "       [0.6925213 ],\n",
              "       [0.62570812],\n",
              "       [0.63208339],\n",
              "       [0.55983057],\n",
              "       [0.62628559],\n",
              "       [0.66512611],\n",
              "       [0.64951134],\n",
              "       [0.69694466],\n",
              "       [0.68854825],\n",
              "       [0.7113698 ],\n",
              "       [0.69324892],\n",
              "       [0.71471915],\n",
              "       [0.71093092],\n",
              "       [0.74629507],\n",
              "       [0.74783108],\n",
              "       [0.79650012],\n",
              "       [0.82080003],\n",
              "       [0.78362269],\n",
              "       [0.8227057 ],\n",
              "       [0.83508659],\n",
              "       [0.85645291],\n",
              "       [0.89781125],\n",
              "       [0.79758583],\n",
              "       [0.77318202],\n",
              "       [0.77090683],\n",
              "       [0.73760993],\n",
              "       [0.70314666],\n",
              "       [0.65973264],\n",
              "       [0.68203439],\n",
              "       [0.72422425],\n",
              "       [0.67690654],\n",
              "       [0.73543864],\n",
              "       [0.75081091],\n",
              "       [0.7337178 ],\n",
              "       [0.87266826],\n",
              "       [0.8075067 ],\n",
              "       [0.8006002 ],\n",
              "       [0.78857727],\n",
              "       [0.75819097],\n",
              "       [0.80070411],\n",
              "       [0.82014178],\n",
              "       [0.86013723],\n",
              "       [0.84901519],\n",
              "       [0.84342519],\n",
              "       [0.82484231],\n",
              "       [0.83229159],\n",
              "       [0.86698592],\n",
              "       [0.88966889],\n",
              "       [0.89961288],\n",
              "       [0.94307314],\n",
              "       [0.97021415],\n",
              "       [0.92455948],\n",
              "       [0.93566996],\n",
              "       [0.97685503],\n",
              "       [0.98518208],\n",
              "       [0.98721478],\n",
              "       [0.98987119],\n",
              "       [1.        ]])"
            ]
          },
          "metadata": {
            "tags": []
          },
          "execution_count": 158
        }
      ]
    },
    {
      "cell_type": "code",
      "metadata": {
        "colab": {
          "base_uri": "https://localhost:8080/",
          "height": 281
        },
        "id": "ADUay3EHIAv4",
        "outputId": "82175c49-d114-41b9-ccb8-3fecdc081878"
      },
      "source": [
        "#verificamos como la grafica se mantiene identica a la primera\n",
        "plt.plot(df1)"
      ],
      "execution_count": null,
      "outputs": [
        {
          "output_type": "execute_result",
          "data": {
            "text/plain": [
              "[<matplotlib.lines.Line2D at 0x7ff683535910>]"
            ]
          },
          "metadata": {
            "tags": []
          },
          "execution_count": 159
        },
        {
          "output_type": "display_data",
          "data": {
            "image/png": "[encoded data removed]",
            "text/plain": [
              "<Figure size 432x288 with 1 Axes>"
            ]
          },
          "metadata": {
            "tags": []
          }
        }
      ]
    },
    {
      "cell_type": "code",
      "metadata": {
        "id": "2SrPzgSMCI4s"
      },
      "source": [
        "#separamos train y test\n",
        "training_size=int(len(df1)*0.70)\n",
        "test_size=len(df1)-training_size\n",
        "train_data,test_data=df1[0:training_size,:],df1[training_size:len(df1),:1]"
      ],
      "execution_count": null,
      "outputs": []
    },
    {
      "cell_type": "code",
      "metadata": {
        "colab": {
          "base_uri": "https://localhost:8080/"
        },
        "id": "TyrnBiKcCMuN",
        "outputId": "204a1220-0681-4069-9c79-63c622d82fdd"
      },
      "source": [
        "training_size,test_size"
      ],
      "execution_count": null,
      "outputs": [
        {
          "output_type": "execute_result",
          "data": {
            "text/plain": [
              "(183, 79)"
            ]
          },
          "metadata": {
            "tags": []
          },
          "execution_count": 161
        }
      ]
    },
    {
      "cell_type": "code",
      "metadata": {
        "colab": {
          "base_uri": "https://localhost:8080/"
        },
        "id": "JXC9qUiNKufr",
        "outputId": "211f555a-95cd-40aa-d391-4a4e7089bc07"
      },
      "source": [
        "train_data"
      ],
      "execution_count": null,
      "outputs": [
        {
          "output_type": "execute_result",
          "data": {
            "text/plain": [
              "array([[0.03298685],\n",
              "       [0.        ],\n",
              "       [0.01371762],\n",
              "       [0.05042467],\n",
              "       [0.04417057],\n",
              "       [0.04011631],\n",
              "       [0.06085977],\n",
              "       [0.0492729 ],\n",
              "       [0.07167489],\n",
              "       [0.08236912],\n",
              "       [0.05891328],\n",
              "       [0.07393239],\n",
              "       [0.0600881 ],\n",
              "       [0.04533383],\n",
              "       [0.05049375],\n",
              "       [0.03211148],\n",
              "       [0.07934573],\n",
              "       [0.04976451],\n",
              "       [0.05013403],\n",
              "       [0.04508697],\n",
              "       [0.05231688],\n",
              "       [0.04307739],\n",
              "       [0.04448645],\n",
              "       [0.04333151],\n",
              "       [0.04836701],\n",
              "       [0.04259233],\n",
              "       [0.03301794],\n",
              "       [0.04079064],\n",
              "       [0.20571554],\n",
              "       [0.14869634],\n",
              "       [0.15106394],\n",
              "       [0.16225528],\n",
              "       [0.187456  ],\n",
              "       [0.13589962],\n",
              "       [0.15657301],\n",
              "       [0.12229451],\n",
              "       [0.15124877],\n",
              "       [0.15526793],\n",
              "       [0.13531059],\n",
              "       [0.15256534],\n",
              "       [0.1718528 ],\n",
              "       [0.19332309],\n",
              "       [0.23928955],\n",
              "       [0.24946454],\n",
              "       [0.27597034],\n",
              "       [0.2566136 ],\n",
              "       [0.30234905],\n",
              "       [0.29502679],\n",
              "       [0.31414098],\n",
              "       [0.28187205],\n",
              "       [0.28238022],\n",
              "       [0.29287863],\n",
              "       [0.30498234],\n",
              "       [0.25369157],\n",
              "       [0.23056979],\n",
              "       [0.26614182],\n",
              "       [0.28658421],\n",
              "       [0.21800408],\n",
              "       [0.21665282],\n",
              "       [0.23803064],\n",
              "       [0.24283521],\n",
              "       [0.24955695],\n",
              "       [0.26795508],\n",
              "       [0.28040526],\n",
              "       [0.27774892],\n",
              "       [0.29462252],\n",
              "       [0.28219546],\n",
              "       [0.30512092],\n",
              "       [0.25865786],\n",
              "       [0.22890668],\n",
              "       [0.24982256],\n",
              "       [0.24948766],\n",
              "       [0.24822875],\n",
              "       [0.27469987],\n",
              "       [0.26278099],\n",
              "       [0.25939696],\n",
              "       [0.22741677],\n",
              "       [0.20836032],\n",
              "       [0.2360673 ],\n",
              "       [0.24348197],\n",
              "       [0.25990514],\n",
              "       [0.28634165],\n",
              "       [0.31642773],\n",
              "       [0.33193851],\n",
              "       [0.33309345],\n",
              "       [0.32408496],\n",
              "       [0.31729393],\n",
              "       [0.31951146],\n",
              "       [0.30588315],\n",
              "       [0.3165317 ],\n",
              "       [0.33734368],\n",
              "       [0.32624469],\n",
              "       [0.32369232],\n",
              "       [0.32767687],\n",
              "       [0.3517457 ],\n",
              "       [0.34712596],\n",
              "       [0.30860886],\n",
              "       [0.29936936],\n",
              "       [0.3068995 ],\n",
              "       [0.30821615],\n",
              "       [0.29530396],\n",
              "       [0.34010392],\n",
              "       [0.34184789],\n",
              "       [0.34081998],\n",
              "       [0.31992722],\n",
              "       [0.3595762 ],\n",
              "       [0.36157422],\n",
              "       [0.35827112],\n",
              "       [0.37939488],\n",
              "       [0.35419416],\n",
              "       [0.36826128],\n",
              "       [0.38489239],\n",
              "       [0.38555071],\n",
              "       [0.38605889],\n",
              "       [0.40242432],\n",
              "       [0.4126686 ],\n",
              "       [0.36913904],\n",
              "       [0.38661323],\n",
              "       [0.38096558],\n",
              "       [0.37968362],\n",
              "       [0.40235502],\n",
              "       [0.4748504 ],\n",
              "       [0.49930039],\n",
              "       [0.50517897],\n",
              "       [0.50724636],\n",
              "       [0.55051023],\n",
              "       [0.55528012],\n",
              "       [0.52551746],\n",
              "       [0.51391036],\n",
              "       [0.54371927],\n",
              "       [0.47804953],\n",
              "       [0.48943726],\n",
              "       [0.53263183],\n",
              "       [0.5521849 ],\n",
              "       [0.5159315 ],\n",
              "       [0.500259  ],\n",
              "       [0.48458651],\n",
              "       [0.48029011],\n",
              "       [0.48631891],\n",
              "       [0.51109231],\n",
              "       [0.49857277],\n",
              "       [0.49140059],\n",
              "       [0.50091733],\n",
              "       [0.53623523],\n",
              "       [0.55907991],\n",
              "       [0.57154165],\n",
              "       [0.56983236],\n",
              "       [0.60571625],\n",
              "       [0.62097291],\n",
              "       [0.6158796 ],\n",
              "       [0.60550836],\n",
              "       [0.63036255],\n",
              "       [0.59520628],\n",
              "       [0.62625105],\n",
              "       [0.6575959 ],\n",
              "       [0.65289537],\n",
              "       [0.63704967],\n",
              "       [0.70152972],\n",
              "       [0.72466313],\n",
              "       [0.74227591],\n",
              "       [0.78654458],\n",
              "       [0.71269801],\n",
              "       [0.62709413],\n",
              "       [0.69294863],\n",
              "       [0.72989503],\n",
              "       [0.67460823],\n",
              "       [0.76829666],\n",
              "       [0.74022009],\n",
              "       [0.60837258],\n",
              "       [0.62017607],\n",
              "       [0.59159132],\n",
              "       [0.61726561],\n",
              "       [0.66772471],\n",
              "       [0.61816649],\n",
              "       [0.63914004],\n",
              "       [0.69694466],\n",
              "       [0.66010216],\n",
              "       [0.67084312],\n",
              "       [0.7214755 ],\n",
              "       [0.72305775],\n",
              "       [0.75931123],\n",
              "       [0.76303009],\n",
              "       [0.71702902]])"
            ]
          },
          "metadata": {
            "tags": []
          },
          "execution_count": 162
        }
      ]
    },
    {
      "cell_type": "code",
      "metadata": {
        "id": "uTaANaHfCOt3"
      },
      "source": [
        "#funcion que convierte la data en una matriz donde cada registro es una sub serie temporal de 4 semanas, es decir 4 features por registro\n",
        "#asi dejamos el que les sigue como target\n",
        "def create_dataset(dataset, time_step):\n",
        "\tdataX, dataY = [], []\n",
        "\tfor i in range(len(dataset)-time_step-1):\n",
        "\t\ta = dataset[i:(i+time_step), 0]\n",
        "\t\tdataX.append(a)\n",
        "\t\tdataY.append(dataset[i + time_step, 0])\n",
        "\treturn np.array(dataX), np.array(dataY)"
      ],
      "execution_count": null,
      "outputs": []
    },
    {
      "cell_type": "code",
      "metadata": {
        "id": "Ki6RbaN5CVI3"
      },
      "source": [
        "time_step = 4\n",
        "X_train, y_train = create_dataset(train_data, time_step)\n",
        "X_test, ytest = create_dataset(test_data, time_step)"
      ],
      "execution_count": null,
      "outputs": []
    },
    {
      "cell_type": "code",
      "metadata": {
        "colab": {
          "base_uri": "https://localhost:8080/"
        },
        "id": "VWWPYusJKD6_",
        "outputId": "60659211-cef6-448c-b73b-4e7f298149b4"
      },
      "source": [
        "print(X_test.shape), print(ytest.shape)"
      ],
      "execution_count": null,
      "outputs": [
        {
          "output_type": "stream",
          "text": [
            "(74, 4)\n",
            "(74,)\n"
          ],
          "name": "stdout"
        },
        {
          "output_type": "execute_result",
          "data": {
            "text/plain": [
              "(None, None)"
            ]
          },
          "metadata": {
            "tags": []
          },
          "execution_count": 165
        }
      ]
    },
    {
      "cell_type": "code",
      "metadata": {
        "id": "wO4Ufy80K7xz"
      },
      "source": [
        "#manejamos la dimensionalidad para que la red pueda trabajar con los datos propuestos\n",
        "X_train =X_train.reshape(X_train.shape[0],X_train.shape[1] , 1)\n",
        "X_test = X_test.reshape(X_test.shape[0],X_test.shape[1] , 1)"
      ],
      "execution_count": null,
      "outputs": []
    },
    {
      "cell_type": "code",
      "metadata": {
        "id": "Jq2hbKocCl1L"
      },
      "source": [
        "from tensorflow.keras.models import Sequential\n",
        "from tensorflow.keras.layers import Dense\n",
        "from tensorflow.keras.layers import LSTM"
      ],
      "execution_count": null,
      "outputs": []
    },
    {
      "cell_type": "code",
      "metadata": {
        "id": "gmySKbQjCnGl"
      },
      "source": [
        "#la arquitectura de la red consta de 3 capas de LSTM y una capa densa al final\n",
        "model=Sequential()\n",
        "model.add(LSTM(50,return_sequences=True,input_shape=(4,1)))\n",
        "model.add(LSTM(50,return_sequences=True))\n",
        "model.add(LSTM(50))\n",
        "model.add(Dense(1))\n",
        "model.compile(loss='mean_squared_error',optimizer='adam')"
      ],
      "execution_count": null,
      "outputs": []
    },
    {
      "cell_type": "code",
      "metadata": {
        "colab": {
          "base_uri": "https://localhost:8080/"
        },
        "id": "rb3N0nRWCopo",
        "outputId": "8a1e0723-f413-4a1d-b184-0b6ea7fdb610"
      },
      "source": [
        "model.summary()"
      ],
      "execution_count": null,
      "outputs": [
        {
          "output_type": "stream",
          "text": [
            "Model: \"sequential_6\"\n",
            "_________________________________________________________________\n",
            "Layer (type)                 Output Shape              Param #   \n",
            "=================================================================\n",
            "lstm_18 (LSTM)               (None, 4, 50)             10400     \n",
            "_________________________________________________________________\n",
            "lstm_19 (LSTM)               (None, 4, 50)             20200     \n",
            "_________________________________________________________________\n",
            "lstm_20 (LSTM)               (None, 50)                20200     \n",
            "_________________________________________________________________\n",
            "dense_6 (Dense)              (None, 1)                 51        \n",
            "=================================================================\n",
            "Total params: 50,851\n",
            "Trainable params: 50,851\n",
            "Non-trainable params: 0\n",
            "_________________________________________________________________\n"
          ],
          "name": "stdout"
        }
      ]
    },
    {
      "cell_type": "code",
      "metadata": {
        "colab": {
          "base_uri": "https://localhost:8080/"
        },
        "id": "oj5HrnBkCq_e",
        "outputId": "5ea9cf57-7deb-4855-da56-b27e7e2c0f1a"
      },
      "source": [
        "history = model.fit(X_train,y_train,validation_data=(X_test,ytest),epochs=50,batch_size=64,verbose=1)"
      ],
      "execution_count": null,
      "outputs": [
        {
          "output_type": "stream",
          "text": [
            "Epoch 1/50\n",
            "3/3 [==============================] - 7s 566ms/step - loss: 0.1650 - val_loss: 0.5422\n",
            "Epoch 2/50\n",
            "3/3 [==============================] - 0s 22ms/step - loss: 0.1360 - val_loss: 0.4591\n",
            "Epoch 3/50\n",
            "3/3 [==============================] - 0s 23ms/step - loss: 0.1063 - val_loss: 0.3625\n",
            "Epoch 4/50\n",
            "3/3 [==============================] - 0s 22ms/step - loss: 0.0733 - val_loss: 0.2494\n",
            "Epoch 5/50\n",
            "3/3 [==============================] - 0s 23ms/step - loss: 0.0432 - val_loss: 0.1270\n",
            "Epoch 6/50\n",
            "3/3 [==============================] - 0s 23ms/step - loss: 0.0208 - val_loss: 0.0319\n",
            "Epoch 7/50\n",
            "3/3 [==============================] - 0s 23ms/step - loss: 0.0245 - val_loss: 0.0059\n",
            "Epoch 8/50\n",
            "3/3 [==============================] - 0s 22ms/step - loss: 0.0311 - val_loss: 0.0103\n",
            "Epoch 9/50\n",
            "3/3 [==============================] - 0s 22ms/step - loss: 0.0220 - val_loss: 0.0338\n",
            "Epoch 10/50\n",
            "3/3 [==============================] - 0s 21ms/step - loss: 0.0159 - val_loss: 0.0626\n",
            "Epoch 11/50\n",
            "3/3 [==============================] - 0s 24ms/step - loss: 0.0160 - val_loss: 0.0758\n",
            "Epoch 12/50\n",
            "3/3 [==============================] - 0s 22ms/step - loss: 0.0165 - val_loss: 0.0686\n",
            "Epoch 13/50\n",
            "3/3 [==============================] - 0s 22ms/step - loss: 0.0142 - val_loss: 0.0450\n",
            "Epoch 14/50\n",
            "3/3 [==============================] - 0s 22ms/step - loss: 0.0107 - val_loss: 0.0192\n",
            "Epoch 15/50\n",
            "3/3 [==============================] - 0s 21ms/step - loss: 0.0085 - val_loss: 0.0056\n",
            "Epoch 16/50\n",
            "3/3 [==============================] - 0s 23ms/step - loss: 0.0080 - val_loss: 0.0033\n",
            "Epoch 17/50\n",
            "3/3 [==============================] - 0s 24ms/step - loss: 0.0065 - val_loss: 0.0036\n",
            "Epoch 18/50\n",
            "3/3 [==============================] - 0s 22ms/step - loss: 0.0046 - val_loss: 0.0056\n",
            "Epoch 19/50\n",
            "3/3 [==============================] - 0s 21ms/step - loss: 0.0037 - val_loss: 0.0055\n",
            "Epoch 20/50\n",
            "3/3 [==============================] - 0s 21ms/step - loss: 0.0032 - val_loss: 0.0034\n",
            "Epoch 21/50\n",
            "3/3 [==============================] - 0s 22ms/step - loss: 0.0027 - val_loss: 0.0062\n",
            "Epoch 22/50\n",
            "3/3 [==============================] - 0s 21ms/step - loss: 0.0023 - val_loss: 0.0098\n",
            "Epoch 23/50\n",
            "3/3 [==============================] - 0s 29ms/step - loss: 0.0023 - val_loss: 0.0084\n",
            "Epoch 24/50\n",
            "3/3 [==============================] - 0s 26ms/step - loss: 0.0022 - val_loss: 0.0072\n",
            "Epoch 25/50\n",
            "3/3 [==============================] - 0s 24ms/step - loss: 0.0023 - val_loss: 0.0079\n",
            "Epoch 26/50\n",
            "3/3 [==============================] - 0s 26ms/step - loss: 0.0023 - val_loss: 0.0103\n",
            "Epoch 27/50\n",
            "3/3 [==============================] - 0s 23ms/step - loss: 0.0022 - val_loss: 0.0105\n",
            "Epoch 28/50\n",
            "3/3 [==============================] - 0s 22ms/step - loss: 0.0022 - val_loss: 0.0087\n",
            "Epoch 29/50\n",
            "3/3 [==============================] - 0s 22ms/step - loss: 0.0022 - val_loss: 0.0062\n",
            "Epoch 30/50\n",
            "3/3 [==============================] - 0s 21ms/step - loss: 0.0021 - val_loss: 0.0060\n",
            "Epoch 31/50\n",
            "3/3 [==============================] - 0s 22ms/step - loss: 0.0021 - val_loss: 0.0061\n",
            "Epoch 32/50\n",
            "3/3 [==============================] - 0s 23ms/step - loss: 0.0021 - val_loss: 0.0057\n",
            "Epoch 33/50\n",
            "3/3 [==============================] - 0s 22ms/step - loss: 0.0020 - val_loss: 0.0049\n",
            "Epoch 34/50\n",
            "3/3 [==============================] - 0s 23ms/step - loss: 0.0020 - val_loss: 0.0048\n",
            "Epoch 35/50\n",
            "3/3 [==============================] - 0s 21ms/step - loss: 0.0020 - val_loss: 0.0048\n",
            "Epoch 36/50\n",
            "3/3 [==============================] - 0s 22ms/step - loss: 0.0020 - val_loss: 0.0046\n",
            "Epoch 37/50\n",
            "3/3 [==============================] - 0s 23ms/step - loss: 0.0020 - val_loss: 0.0052\n",
            "Epoch 38/50\n",
            "3/3 [==============================] - 0s 23ms/step - loss: 0.0020 - val_loss: 0.0048\n",
            "Epoch 39/50\n",
            "3/3 [==============================] - 0s 22ms/step - loss: 0.0020 - val_loss: 0.0044\n",
            "Epoch 40/50\n",
            "3/3 [==============================] - 0s 21ms/step - loss: 0.0020 - val_loss: 0.0047\n",
            "Epoch 41/50\n",
            "3/3 [==============================] - 0s 22ms/step - loss: 0.0020 - val_loss: 0.0050\n",
            "Epoch 42/50\n",
            "3/3 [==============================] - 0s 27ms/step - loss: 0.0020 - val_loss: 0.0050\n",
            "Epoch 43/50\n",
            "3/3 [==============================] - 0s 21ms/step - loss: 0.0020 - val_loss: 0.0047\n",
            "Epoch 44/50\n",
            "3/3 [==============================] - 0s 22ms/step - loss: 0.0019 - val_loss: 0.0046\n",
            "Epoch 45/50\n",
            "3/3 [==============================] - 0s 23ms/step - loss: 0.0019 - val_loss: 0.0044\n",
            "Epoch 46/50\n",
            "3/3 [==============================] - 0s 22ms/step - loss: 0.0019 - val_loss: 0.0044\n",
            "Epoch 47/50\n",
            "3/3 [==============================] - 0s 21ms/step - loss: 0.0020 - val_loss: 0.0048\n",
            "Epoch 48/50\n",
            "3/3 [==============================] - 0s 21ms/step - loss: 0.0019 - val_loss: 0.0041\n",
            "Epoch 49/50\n",
            "3/3 [==============================] - 0s 25ms/step - loss: 0.0019 - val_loss: 0.0039\n",
            "Epoch 50/50\n",
            "3/3 [==============================] - 0s 22ms/step - loss: 0.0019 - val_loss: 0.0045\n"
          ],
          "name": "stdout"
        }
      ]
    },
    {
      "cell_type": "code",
      "metadata": {
        "id": "jDoFjn5kCviF"
      },
      "source": [
        "#Predecimos los valores sobre el test\n",
        "train_predict=model.predict(X_train)\n",
        "test_predict=model.predict(X_test)"
      ],
      "execution_count": null,
      "outputs": []
    },
    {
      "cell_type": "code",
      "metadata": {
        "id": "wQwUC8A_MhUV"
      },
      "source": [
        "#transformacion inversa del scaler para mostrar los datos originales que se predijeron\n",
        "train_predict=scaler.inverse_transform(train_predict)\n",
        "test_predict=scaler.inverse_transform(test_predict)"
      ],
      "execution_count": null,
      "outputs": []
    },
    {
      "cell_type": "code",
      "metadata": {
        "colab": {
          "base_uri": "https://localhost:8080/"
        },
        "id": "nWvbRBCzC4GA",
        "outputId": "722a158c-25fd-40bf-b09a-e820a8b5e380"
      },
      "source": [
        "#error cuadrado medio del entrenamiento\n",
        "import math\n",
        "from sklearn.metrics import mean_squared_error\n",
        "math.sqrt(mean_squared_error(y_train,train_predict))"
      ],
      "execution_count": null,
      "outputs": [
        {
          "output_type": "execute_result",
          "data": {
            "text/plain": [
              "828.4878630417826"
            ]
          },
          "metadata": {
            "tags": []
          },
          "execution_count": 173
        }
      ]
    },
    {
      "cell_type": "code",
      "metadata": {
        "colab": {
          "base_uri": "https://localhost:8080/"
        },
        "id": "NIO-A5G6C5sb",
        "outputId": "d7961086-3fe4-4da5-a936-ee343a54627a"
      },
      "source": [
        "math.sqrt(mean_squared_error(ytest,test_predict))"
      ],
      "execution_count": null,
      "outputs": [
        {
          "output_type": "execute_result",
          "data": {
            "text/plain": [
              "1201.551400133618"
            ]
          },
          "metadata": {
            "tags": []
          },
          "execution_count": 174
        }
      ]
    },
    {
      "cell_type": "code",
      "metadata": {
        "colab": {
          "base_uri": "https://localhost:8080/",
          "height": 35
        },
        "id": "djgNoDa7Hxop",
        "outputId": "205bf7a7-1f96-4c74-cc23-65322f8eb5e7"
      },
      "source": [
        "tf.__version__"
      ],
      "execution_count": null,
      "outputs": [
        {
          "output_type": "execute_result",
          "data": {
            "application/vnd.google.colaboratory.intrinsic+json": {
              "type": "string"
            },
            "text/plain": [
              "'2.5.0'"
            ]
          },
          "metadata": {
            "tags": []
          },
          "execution_count": 175
        }
      ]
    },
    {
      "cell_type": "code",
      "metadata": {
        "colab": {
          "base_uri": "https://localhost:8080/",
          "height": 265
        },
        "id": "f-2BsnFKC7fr",
        "outputId": "41f59275-5a44-43ab-ddb2-64d9676ac584"
      },
      "source": [
        "#graficamos la data de entrenamiento junto a la data predecida y los datos originales en rojo\n",
        "import matplotlib.pyplot as plt\n",
        "look_back=4\n",
        "trainPredictPlot = np.empty_like(df1)\n",
        "trainPredictPlot[:, :] = np.nan\n",
        "trainPredictPlot[look_back:len(train_predict)+look_back, :] = train_predict\n",
        "testPredictPlot = np.empty_like(df1)\n",
        "testPredictPlot[:, :] = np.nan\n",
        "testPredictPlot[len(train_predict)+(look_back*2)+1:len(df1)-1, :] = test_predict\n",
        "plt.plot(scaler.inverse_transform(df1))\n",
        "plt.plot(trainPredictPlot)\n",
        "plt.plot(testPredictPlot)\n",
        "plt.show()"
      ],
      "execution_count": null,
      "outputs": [
        {
          "output_type": "display_data",
          "data": {
            "image/png": "[encoded data removed]",
            "text/plain": [
              "<Figure size 432x288 with 1 Axes>"
            ]
          },
          "metadata": {
            "tags": []
          }
        }
      ]
    },
    {
      "cell_type": "code",
      "metadata": {
        "id": "eRnwWy5GVXBN"
      },
      "source": [
        ""
      ],
      "execution_count": null,
      "outputs": []
    }
  ]
}